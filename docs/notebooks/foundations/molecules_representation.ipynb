{
 "cells": [
  {
   "cell_type": "markdown",
   "id": "c1b5c436",
   "metadata": {},
   "source": [
    "# Foundations: Molecular Representations for Machine Learning\n",
    "\n",
    "**Author**: Hosein Fooladi  \n",
    "**License**: MIT License\n",
    "\n",
    "[![Open In Colab](https://colab.research.google.com/assets/colab-badge.svg)](https://colab.research.google.com/github/HFooladi/bayesoptimol/blob/main/notebooks/foundations/molecules_representation.ipynb)\n",
    "\n",
    "## 1. Overview and Learning Objectives\n",
    "\n",
    "This notebook explores different ways to represent molecules in formats suitable for machine learning algorithms. Proper molecular representation is a critical first step in applying Bayesian optimization and active learning approaches to drug discovery, as the choice of representation directly impacts the performance of these methods.\n",
    "\n",
    "**After completing this notebook, you will be able to:**\n",
    "- Understand the importance of molecular representations in machine learning for drug discovery\n",
    "- Implement and compare different molecular encoding methods including SMILES strings, fingerprints, and descriptors\n",
    "- Calculate molecular similarity using various kernel functions\n",
    "- Select appropriate representations for different machine learning tasks\n",
    "- Visualize and interpret relationships between molecular structures and their representations\n",
    "\n",
    "**Prerequisites:**\n",
    "- Basic knowledge of chemistry and organic structures\n",
    "- Familiarity with Python programming\n",
    "- Understanding of basic machine learning concepts\n",
    "\n",
    "---"
   ]
  },
  {
   "cell_type": "markdown",
   "id": "b7e2a279",
   "metadata": {},
   "source": [
    "## 2. Setup and Dependencies\n",
    "\n",
    "Let's begin by installing and importing all necessary packages."
   ]
  },
  {
   "cell_type": "code",
   "execution_count": null,
   "id": "aca86d33",
   "metadata": {},
   "outputs": [],
   "source": [
    "# Install required packages\n",
    "!pip install -q rdkit-pypi scikit-learn pandas matplotlib seaborn tqdm umap-learn"
   ]
  },
  {
   "cell_type": "markdown",
   "id": "5aaa07de",
   "metadata": {},
   "source": [
    "Uncomment if using Google Colab to show plots inline\n",
    "\n",
    "#from google.colab import output\n",
    "\n",
    "#output.enable_custom_widget_manager()"
   ]
  },
  {
   "cell_type": "code",
   "execution_count": 9,
   "id": "ce8150d1",
   "metadata": {},
   "outputs": [],
   "source": [
    "# Basic imports\n",
    "import numpy as np\n",
    "import pandas as pd\n",
    "import matplotlib.pyplot as plt\n",
    "import seaborn as sns\n",
    "import rdkit\n",
    "from rdkit import Chem\n",
    "from rdkit.Chem import AllChem, Descriptors, Draw, PandasTools, MACCSkeys\n",
    "from rdkit import DataStructs\n",
    "from rdkit.Chem.Fingerprints import FingerprintMols\n",
    "from rdkit.Chem.AtomPairs import Pairs, Torsions\n",
    "import torch\n",
    "from sklearn.decomposition import PCA\n",
    "from sklearn.manifold import TSNE\n",
    "from sklearn.metrics.pairwise import cosine_similarity, euclidean_distances\n",
    "import warnings\n",
    "import os\n",
    "import time\n",
    "from tqdm.notebook import tqdm\n",
    "from IPython.display import display, HTML"
   ]
  },
  {
   "cell_type": "code",
   "execution_count": 3,
   "id": "d5a25ba3",
   "metadata": {},
   "outputs": [],
   "source": [
    "# Set plotting style\n",
    "#plt.style.use('seaborn-whitegrid')\n",
    "sns.set_context(\"notebook\", font_scale=1.2)"
   ]
  },
  {
   "cell_type": "code",
   "execution_count": 4,
   "id": "1b898db9",
   "metadata": {},
   "outputs": [],
   "source": [
    "# Configure warnings\n",
    "warnings.filterwarnings('ignore', category=FutureWarning)\n",
    "warnings.filterwarnings('ignore', category=UserWarning)"
   ]
  },
  {
   "cell_type": "code",
   "execution_count": 5,
   "id": "6bb13926",
   "metadata": {},
   "outputs": [
    {
     "data": {
      "text/plain": [
       "<torch._C.Generator at 0x71369ae675b0>"
      ]
     },
     "execution_count": 5,
     "metadata": {},
     "output_type": "execute_result"
    }
   ],
   "source": [
    "# Set random seeds for reproducibility\n",
    "np.random.seed(42)\n",
    "torch.manual_seed(42)"
   ]
  },
  {
   "cell_type": "code",
   "execution_count": 10,
   "id": "d146d9a7",
   "metadata": {
    "lines_to_next_cell": 1
   },
   "outputs": [
    {
     "name": "stdout",
     "output_type": "stream",
     "text": [
      "Python version: 3.10.12 | packaged by conda-forge | (main, Jun 23 2023, 22:40:32) [GCC 12.3.0]\n",
      "RDKit version: 2024.03.5\n",
      "NumPy version: 1.26.0\n",
      "Pandas version: 2.2.2\n"
     ]
    }
   ],
   "source": [
    "# Display versions for reproducibility\n",
    "import sys\n",
    "print(f\"Python version: {sys.version}\")\n",
    "print(f\"RDKit version: {rdkit.__version__}\")\n",
    "print(f\"NumPy version: {np.__version__}\")\n",
    "print(f\"Pandas version: {pd.__version__}\")"
   ]
  },
  {
   "cell_type": "markdown",
   "id": "c778a424",
   "metadata": {},
   "source": [
    "## 3. Background and Theory\n",
    "\n",
    "### 3.1 Why Molecular Representations Matter\n",
    "\n",
    "When applying machine learning to chemical problems, we need to convert molecular structures into numerical or vector representations that algorithms can process. The choice of representation can significantly impact:\n",
    "\n",
    "- **Model performance**: Different representations capture different aspects of molecular structure and properties\n",
    "- **Computational efficiency**: Some representations are more compact or easier to process\n",
    "- **Interpretability**: Some representations maintain a clear connection to chemical features\n",
    "- **Applicability**: Certain tasks may require specific types of information about molecules\n",
    "\n",
    "The challenge lies in encoding the complex 3D structures and chemical properties of molecules into formats that preserve the relevant information while being suitable for machine learning algorithms."
   ]
  },
  {
   "cell_type": "markdown",
   "id": "b3f91504",
   "metadata": {},
   "source": [
    "### 3.2 Key Requirements for Molecular Representations\n",
    "\n",
    "An ideal molecular representation for machine learning should have several important properties:\n",
    "\n",
    "- **Invariance to symmetry operations**: Rotation, translation, or reordering of atoms shouldn't change the representation\n",
    "- **Uniqueness**: Different molecules should have different representations\n",
    "- **Completeness**: Contains all relevant structural information\n",
    "- **Smoothness**: Similar molecules should have similar representations\n",
    "- **Computational efficiency**: Can be calculated quickly for large datasets\n",
    "\n",
    "Different representations make different trade-offs among these requirements. Let's explore this with a visualization:"
   ]
  },
  {
   "cell_type": "code",
   "execution_count": 11,
   "id": "9f6d8888",
   "metadata": {
    "lines_to_next_cell": 1
   },
   "outputs": [],
   "source": [
    "# @title Visualization of Representation Trade-offs { display-mode: \"form\" }\n",
    "# Create a radar chart to visualize trade-offs\n",
    "def plot_representation_tradeoffs():\n",
    "    # Categories and representations\n",
    "    categories = ['Invariance', 'Uniqueness', 'Completeness', 'Smoothness', 'Efficiency']\n",
    "    representations = ['SMILES/String', 'Fingerprints', 'Descriptors', 'Graphs', '3D Coordinates']\n",
    "    \n",
    "    # Ratings for each representation (0-5 scale)\n",
    "    # These are subjective ratings for illustration\n",
    "    data = np.array([\n",
    "        [3, 4, 3, 2, 5],  # SMILES/String\n",
    "        [5, 3, 3, 4, 5],  # Fingerprints\n",
    "        [5, 2, 2, 4, 4],  # Descriptors\n",
    "        [5, 5, 4, 5, 3],  # Graphs\n",
    "        [3, 5, 5, 5, 2]   # 3D Coordinates\n",
    "    ])\n",
    "    \n",
    "    # Create radar chart\n",
    "    angles = np.linspace(0, 2*np.pi, len(categories), endpoint=False).tolist()\n",
    "    angles += angles[:1]  # Close the loop\n",
    "    \n",
    "    fig, ax = plt.subplots(figsize=(10, 10), subplot_kw=dict(polar=True))\n",
    "    \n",
    "    # Add category labels\n",
    "    plt.xticks(angles[:-1], categories, size=12)\n",
    "    \n",
    "    # Add representation data\n",
    "    for i, rep in enumerate(representations):\n",
    "        values = data[i].tolist()\n",
    "        values += values[:1]  # Close the loop\n",
    "        ax.plot(angles, values, linewidth=2, label=rep)\n",
    "        ax.fill(angles, values, alpha=0.1)\n",
    "    \n",
    "    # Customize chart\n",
    "    ax.set_ylim(0, 5)\n",
    "    plt.yticks([1, 2, 3, 4, 5], ['1', '2', '3', '4', '5'], color='grey', size=10)\n",
    "    plt.legend(loc='upper right', bbox_to_anchor=(0.1, 0.1))\n",
    "    plt.title('Trade-offs Between Different Molecular Representations', size=15)\n",
    "    \n",
    "    plt.tight_layout()\n",
    "    plt.show()\n",
    "    \n",
    "    # Explanation\n",
    "    print(\"Explanation of representation trade-offs:\")\n",
    "    print(\"- SMILES strings are efficient and relatively unique, but aren't invariant to atom ordering.\")\n",
    "    print(\"- Fingerprints provide good invariance and efficiency, with moderate uniqueness and completeness.\")\n",
    "    print(\"- Descriptors are invariant but may lose uniqueness as they compress molecular information.\")\n",
    "    print(\"- Graph representations maintain more structural information but are less computationally efficient.\")\n",
    "    print(\"- 3D coordinate representations capture complete structural information but are sensitive to conformation\\n  and less efficient to process.\")"
   ]
  },
  {
   "cell_type": "code",
   "execution_count": 12,
   "id": "26e08b0c",
   "metadata": {},
   "outputs": [
    {
     "data": {
      "image/png": "[encoded data removed]",
      "text/plain": [
       "<Figure size 1000x1000 with 1 Axes>"
      ]
     },
     "metadata": {},
     "output_type": "display_data"
    },
    {
     "name": "stdout",
     "output_type": "stream",
     "text": [
      "Explanation of representation trade-offs:\n",
      "- SMILES strings are efficient and relatively unique, but aren't invariant to atom ordering.\n",
      "- Fingerprints provide good invariance and efficiency, with moderate uniqueness and completeness.\n",
      "- Descriptors are invariant but may lose uniqueness as they compress molecular information.\n",
      "- Graph representations maintain more structural information but are less computationally efficient.\n",
      "- 3D coordinate representations capture complete structural information but are sensitive to conformation\n",
      "  and less efficient to process.\n"
     ]
    }
   ],
   "source": [
    "# Plot the trade-offs\n",
    "plot_representation_tradeoffs()"
   ]
  },
  {
   "cell_type": "markdown",
   "id": "df1115f6",
   "metadata": {},
   "source": [
    "### 3.3 Types of Molecular Representations\n",
    "\n",
    "Molecular representations fall into several categories:\n",
    "\n",
    "1. **String-based**: Linear text notations like SMILES and InChI\n",
    "2. **Fingerprint-based**: Bit vectors encoding presence of substructures or features\n",
    "3. **Descriptor-based**: Numerical values describing physical and chemical properties\n",
    "4. **Graph-based**: Molecules as graphs with atoms as nodes and bonds as edges\n",
    "5. **3D-based**: Three-dimensional coordinates and spatial information\n",
    "\n",
    "Let's visualize this categorization:"
   ]
  },
  {
   "cell_type": "code",
   "execution_count": 13,
   "id": "8a192d55",
   "metadata": {},
   "outputs": [],
   "source": [
    "# @title Molecular Representation Hierarchy { display-mode: \"form\" }\n",
    "from IPython.display import Image\n",
    "from IPython.core.display import HTML"
   ]
  },
  {
   "cell_type": "code",
   "execution_count": 14,
   "id": "b0771807",
   "metadata": {},
   "outputs": [],
   "source": [
    "# Create a compact representation of the hierarchy using HTML\n",
    "html = \"\"\"\n",
    "<div style=\"background-color:#f8f9fa; padding:20px; border-radius:10px;\">\n",
    "<h3 style=\"text-align:center;\">Molecular Representation Hierarchy</h3>\n",
    "<ul style=\"list-style-type:none; padding-left:20px;\">\n",
    "  <li>\n",
    "    <span style=\"font-weight:bold;\">🔤 String-based</span>\n",
    "    <ul>\n",
    "      <li>SMILES: <code>CC(=O)OC1=CC=CC=C1C(=O)O</code> (Aspirin)</li>\n",
    "      <li>InChI: <code>InChI=1S/C9H8O4/c1-6(10)13-8-5-3-2-4-7(8)9(11)12/h2-5H,1H3,(H,11,12)</code></li>\n",
    "      <li>SELFIES: Self-referencing embedded strings</li>\n",
    "    </ul>\n",
    "  </li>\n",
    "  <li>\n",
    "    <span style=\"font-weight:bold;\">👾 Fingerprint-based</span>\n",
    "    <ul>\n",
    "      <li>Morgan/ECFP: Extended connectivity fingerprints</li>\n",
    "      <li>MACCS: 166 predefined structural keys</li>\n",
    "      <li>Atom Pairs: Atom types and topological distances</li>\n",
    "      <li>Topological Torsions: Paths of 4 connected atoms</li>\n",
    "    </ul>\n",
    "  </li>\n",
    "  <li>\n",
    "    <span style=\"font-weight:bold;\">🔢 Descriptor-based</span>\n",
    "    <ul>\n",
    "      <li>Physical: Molecular weight, logP, TPSA</li>\n",
    "      <li>Constitutional: Atom counts, bond counts</li>\n",
    "      <li>Topological: Molecular connectivity indices</li>\n",
    "      <li>Electronic: Partial charges, polarizability</li>\n",
    "    </ul>\n",
    "  </li>\n",
    "  <li>\n",
    "    <span style=\"font-weight:bold;\">📊 Graph-based</span>\n",
    "    <ul>\n",
    "      <li>Adjacency matrix representation</li>\n",
    "      <li>Edge list representation</li>\n",
    "      <li>Node feature vectors (atom types, properties)</li>\n",
    "      <li>Edge feature vectors (bond types, properties)</li>\n",
    "    </ul>\n",
    "  </li>\n",
    "  <li>\n",
    "    <span style=\"font-weight:bold;\">🧬 3D-based</span>\n",
    "    <ul>\n",
    "      <li>Cartesian coordinates</li>\n",
    "      <li>Distance matrices</li>\n",
    "      <li>Coulomb matrices</li>\n",
    "      <li>Pharmacophore features (spatial arrangement of interacting groups)</li>\n",
    "    </ul>\n",
    "  </li>\n",
    "</ul>\n",
    "</div>\n",
    "\"\"\""
   ]
  },
  {
   "cell_type": "code",
   "execution_count": 15,
   "id": "15160a90",
   "metadata": {
    "lines_to_next_cell": 1
   },
   "outputs": [
    {
     "data": {
      "text/html": [
       "\n",
       "<div style=\"background-color:#f8f9fa; padding:20px; border-radius:10px;\">\n",
       "<h3 style=\"text-align:center;\">Molecular Representation Hierarchy</h3>\n",
       "<ul style=\"list-style-type:none; padding-left:20px;\">\n",
       "  <li>\n",
       "    <span style=\"font-weight:bold;\">🔤 String-based</span>\n",
       "    <ul>\n",
       "      <li>SMILES: <code>CC(=O)OC1=CC=CC=C1C(=O)O</code> (Aspirin)</li>\n",
       "      <li>InChI: <code>InChI=1S/C9H8O4/c1-6(10)13-8-5-3-2-4-7(8)9(11)12/h2-5H,1H3,(H,11,12)</code></li>\n",
       "      <li>SELFIES: Self-referencing embedded strings</li>\n",
       "    </ul>\n",
       "  </li>\n",
       "  <li>\n",
       "    <span style=\"font-weight:bold;\">👾 Fingerprint-based</span>\n",
       "    <ul>\n",
       "      <li>Morgan/ECFP: Extended connectivity fingerprints</li>\n",
       "      <li>MACCS: 166 predefined structural keys</li>\n",
       "      <li>Atom Pairs: Atom types and topological distances</li>\n",
       "      <li>Topological Torsions: Paths of 4 connected atoms</li>\n",
       "    </ul>\n",
       "  </li>\n",
       "  <li>\n",
       "    <span style=\"font-weight:bold;\">🔢 Descriptor-based</span>\n",
       "    <ul>\n",
       "      <li>Physical: Molecular weight, logP, TPSA</li>\n",
       "      <li>Constitutional: Atom counts, bond counts</li>\n",
       "      <li>Topological: Molecular connectivity indices</li>\n",
       "      <li>Electronic: Partial charges, polarizability</li>\n",
       "    </ul>\n",
       "  </li>\n",
       "  <li>\n",
       "    <span style=\"font-weight:bold;\">📊 Graph-based</span>\n",
       "    <ul>\n",
       "      <li>Adjacency matrix representation</li>\n",
       "      <li>Edge list representation</li>\n",
       "      <li>Node feature vectors (atom types, properties)</li>\n",
       "      <li>Edge feature vectors (bond types, properties)</li>\n",
       "    </ul>\n",
       "  </li>\n",
       "  <li>\n",
       "    <span style=\"font-weight:bold;\">🧬 3D-based</span>\n",
       "    <ul>\n",
       "      <li>Cartesian coordinates</li>\n",
       "      <li>Distance matrices</li>\n",
       "      <li>Coulomb matrices</li>\n",
       "      <li>Pharmacophore features (spatial arrangement of interacting groups)</li>\n",
       "    </ul>\n",
       "  </li>\n",
       "</ul>\n",
       "</div>\n"
      ],
      "text/plain": [
       "<IPython.core.display.HTML object>"
      ]
     },
     "metadata": {},
     "output_type": "display_data"
    }
   ],
   "source": [
    "display(HTML(html))"
   ]
  },
  {
   "cell_type": "markdown",
   "id": "3d6a9dcd",
   "metadata": {},
   "source": [
    "## 4. Data Preparation\n",
    "\n",
    "Before exploring different molecular representations, let's prepare a dataset of diverse molecules that we can use throughout this notebook."
   ]
  },
  {
   "cell_type": "code",
   "execution_count": 16,
   "id": "883ae8b4",
   "metadata": {
    "lines_to_next_cell": 1
   },
   "outputs": [],
   "source": [
    "# @title Load and Explore Dataset { display-mode: \"form\" }\n",
    "def load_molecular_dataset():\n",
    "    \"\"\"Load a dataset of molecules with diverse structures for representation exploration.\"\"\"\n",
    "    \n",
    "    # Define a set of diverse molecules\n",
    "    sample_data = {\n",
    "        'Name': [\n",
    "            'Aspirin', 'Caffeine', 'Ibuprofen', 'Penicillin G', 'Paracetamol',\n",
    "            'Metformin', 'Atorvastatin', 'Chloroquine', 'Morphine', 'Diazepam',\n",
    "            'Tamoxifen', 'Fluoxetine', 'Sildenafil', 'Metoprolol', 'Cimetidine',\n",
    "            'Propranolol', 'Loratadine', 'Celecoxib', 'Omeprazole', 'Warfarin'\n",
    "        ],\n",
    "        'SMILES': [\n",
    "            'CC(=O)OC1=CC=CC=C1C(=O)O',\n",
    "            'CN1C=NC2=C1C(=O)N(C(=O)N2C)C',\n",
    "            'CC(C)CC1=CC=C(C=C1)C(C)C(=O)O',\n",
    "            'CC1(C(N2C(S1)C(C2=O)NC(=O)CC3=CC=CC=C3)C(=O)O)C',\n",
    "            'CC(=O)NC1=CC=C(C=C1)O',\n",
    "            'CN(C)C(=N)NC(=N)N',\n",
    "            'CC(C)C1=C(C=C(C=C1)C(C)C)C(=O)NC2CCCCC2CCC(CC(CC(=O)O)O)O',\n",
    "            'CCN(CC)CCCC(C)NC1=C2C=CC(=CC2=NC=C1)Cl',\n",
    "            'CN1CCC23C4C1CC5=C2C(=C(C=C5)O)OC3C(C=C4)O',\n",
    "            'CN1C(=O)CN=C(C2=C1C=CC(=C2)Cl)C3=CC=CC=C3',\n",
    "            'CC(C)(C)NCC(COC1=CC=C(C=C1)CCOC1=CC=CC=C1)O',\n",
    "            'CNCCC(OC1=CC=C(C=C1)C(F)(F)F)C1=CC=CC=C1',\n",
    "            'CCCC1=NN(C2=C1N=C(NC2=O)C3=C(C=CC(=C3)S(=O)(=O)N4CCN(CC4)C)OCC)C',\n",
    "            'CCN(CC)CCOC1=CC=C(C=C1)C(C)NCC1=CC=C(C=C1)OC',\n",
    "            'CC1=C(NC=N1)CN1C=C(NC1=N)C1=CC=C(C=C1)NC',\n",
    "            'CC(C)NCC(COC1=CC=CC2=CC=CC=C21)O',\n",
    "            'CCOC(=O)N1CCC(=C2C3=C(CCC4=C2N=CC=C4)C=C(C=C3)Cl)CC1',\n",
    "            'CC1=C(C(=O)NS1(=O)=O)C2=C(C=CC=C2)C3=CC=CC=C3',\n",
    "            'CC1=CN=C(C(=C1OC)C)CS(=O)C2=NC3=C(N2)C=C(C=C3)OC',\n",
    "            'CC(=O)CC(C1=CC=CC=C1)C1=C(O)C2=C(OC1=O)C=CC=C2'\n",
    "        ]\n",
    "    }\n",
    "    \n",
    "    # Create DataFrame\n",
    "    df = pd.DataFrame(sample_data)\n",
    "    \n",
    "    # Add RDKit molecule objects\n",
    "    df['Molecule'] = df['SMILES'].apply(Chem.MolFromSmiles)\n",
    "    \n",
    "    # Add a few basic properties\n",
    "    df['MolWt'] = df['Molecule'].apply(Descriptors.MolWt)\n",
    "    df['LogP'] = df['Molecule'].apply(Descriptors.MolLogP)\n",
    "    df['TPSA'] = df['Molecule'].apply(Descriptors.TPSA)\n",
    "    df['NumHDonors'] = df['Molecule'].apply(Descriptors.NumHDonors)\n",
    "    df['NumHAcceptors'] = df['Molecule'].apply(Descriptors.NumHAcceptors)\n",
    "    df['NumRotBonds'] = df['Molecule'].apply(Descriptors.NumRotatableBonds)\n",
    "    \n",
    "    return df"
   ]
  },
  {
   "cell_type": "code",
   "execution_count": 17,
   "id": "3f696042",
   "metadata": {},
   "outputs": [],
   "source": [
    "# Load the dataset\n",
    "molecules_df = load_molecular_dataset()"
   ]
  },
  {
   "cell_type": "code",
   "execution_count": 18,
   "id": "cd4196d9",
   "metadata": {
    "lines_to_next_cell": 1
   },
   "outputs": [
    {
     "name": "stdout",
     "output_type": "stream",
     "text": [
      "Dataset contains 20 molecules\n",
      "\n",
      "Sample of molecules with properties:\n"
     ]
    },
    {
     "data": {
      "text/html": [
       "<div>\n",
       "<style scoped>\n",
       "    .dataframe tbody tr th:only-of-type {\n",
       "        vertical-align: middle;\n",
       "    }\n",
       "\n",
       "    .dataframe tbody tr th {\n",
       "        vertical-align: top;\n",
       "    }\n",
       "\n",
       "    .dataframe thead th {\n",
       "        text-align: right;\n",
       "    }\n",
       "</style>\n",
       "<table border=\"1\" class=\"dataframe\">\n",
       "  <thead>\n",
       "    <tr style=\"text-align: right;\">\n",
       "      <th></th>\n",
       "      <th>Name</th>\n",
       "      <th>SMILES</th>\n",
       "      <th>MolWt</th>\n",
       "      <th>LogP</th>\n",
       "      <th>TPSA</th>\n",
       "    </tr>\n",
       "  </thead>\n",
       "  <tbody>\n",
       "    <tr>\n",
       "      <th>0</th>\n",
       "      <td>Aspirin</td>\n",
       "      <td>CC(=O)OC1=CC=CC=C1C(=O)O</td>\n",
       "      <td>180.159</td>\n",
       "      <td>1.3101</td>\n",
       "      <td>63.60</td>\n",
       "    </tr>\n",
       "    <tr>\n",
       "      <th>1</th>\n",
       "      <td>Caffeine</td>\n",
       "      <td>CN1C=NC2=C1C(=O)N(C(=O)N2C)C</td>\n",
       "      <td>194.194</td>\n",
       "      <td>-1.0293</td>\n",
       "      <td>61.82</td>\n",
       "    </tr>\n",
       "    <tr>\n",
       "      <th>2</th>\n",
       "      <td>Ibuprofen</td>\n",
       "      <td>CC(C)CC1=CC=C(C=C1)C(C)C(=O)O</td>\n",
       "      <td>206.285</td>\n",
       "      <td>3.0732</td>\n",
       "      <td>37.30</td>\n",
       "    </tr>\n",
       "    <tr>\n",
       "      <th>3</th>\n",
       "      <td>Penicillin G</td>\n",
       "      <td>CC1(C(N2C(S1)C(C2=O)NC(=O)CC3=CC=CC=C3)C(=O)O)C</td>\n",
       "      <td>334.397</td>\n",
       "      <td>0.8608</td>\n",
       "      <td>86.71</td>\n",
       "    </tr>\n",
       "    <tr>\n",
       "      <th>4</th>\n",
       "      <td>Paracetamol</td>\n",
       "      <td>CC(=O)NC1=CC=C(C=C1)O</td>\n",
       "      <td>151.165</td>\n",
       "      <td>1.3506</td>\n",
       "      <td>49.33</td>\n",
       "    </tr>\n",
       "  </tbody>\n",
       "</table>\n",
       "</div>"
      ],
      "text/plain": [
       "           Name                                           SMILES    MolWt  \\\n",
       "0       Aspirin                         CC(=O)OC1=CC=CC=C1C(=O)O  180.159   \n",
       "1      Caffeine                     CN1C=NC2=C1C(=O)N(C(=O)N2C)C  194.194   \n",
       "2     Ibuprofen                    CC(C)CC1=CC=C(C=C1)C(C)C(=O)O  206.285   \n",
       "3  Penicillin G  CC1(C(N2C(S1)C(C2=O)NC(=O)CC3=CC=CC=C3)C(=O)O)C  334.397   \n",
       "4   Paracetamol                            CC(=O)NC1=CC=C(C=C1)O  151.165   \n",
       "\n",
       "     LogP   TPSA  \n",
       "0  1.3101  63.60  \n",
       "1 -1.0293  61.82  \n",
       "2  3.0732  37.30  \n",
       "3  0.8608  86.71  \n",
       "4  1.3506  49.33  "
      ]
     },
     "metadata": {},
     "output_type": "display_data"
    }
   ],
   "source": [
    "# Display summary information\n",
    "print(f\"Dataset contains {len(molecules_df)} molecules\")\n",
    "print(\"\\nSample of molecules with properties:\")\n",
    "display(molecules_df[['Name', 'SMILES', 'MolWt', 'LogP', 'TPSA']].head())"
   ]
  },
  {
   "cell_type": "code",
   "execution_count": 19,
   "id": "0ef5fc22",
   "metadata": {
    "lines_to_next_cell": 1
   },
   "outputs": [],
   "source": [
    "# Visualize a few molecules from the dataset\n",
    "def visualize_molecules(dataframe, n_mols=6):\n",
    "    mols = dataframe['Molecule'].tolist()[:n_mols]\n",
    "    names = dataframe['Name'].tolist()[:n_mols]\n",
    "    \n",
    "    img = Draw.MolsToGridImage(mols, molsPerRow=3, \n",
    "                               subImgSize=(300, 200),\n",
    "                               legends=names)\n",
    "    display(img)"
   ]
  },
  {
   "cell_type": "code",
   "execution_count": 20,
   "id": "29c3ae26",
   "metadata": {},
   "outputs": [
    {
     "data": {
      "image/png": "[encoded data removed]",
      "text/plain": [
       "<IPython.core.display.Image object>"
      ]
     },
     "metadata": {},
     "output_type": "display_data"
    }
   ],
   "source": [
    "visualize_molecules(molecules_df)"
   ]
  },
  {
   "cell_type": "code",
   "execution_count": 21,
   "id": "a9eb7120",
   "metadata": {},
   "outputs": [
    {
     "data": {
      "image/png": "[encoded data removed]",
      "text/plain": [
       "<Figure size 1600x800 with 6 Axes>"
      ]
     },
     "metadata": {},
     "output_type": "display_data"
    }
   ],
   "source": [
    "# Explore property distributions\n",
    "fig, axs = plt.subplots(2, 3, figsize=(16, 8))\n",
    "axs = axs.flatten()"
   ]
  },
  {
   "cell_type": "code",
   "execution_count": 22,
   "id": "db23655a",
   "metadata": {},
   "outputs": [],
   "source": [
    "properties = ['MolWt', 'LogP', 'TPSA', 'NumHDonors', 'NumHAcceptors', 'NumRotBonds']"
   ]
  },
  {
   "cell_type": "code",
   "execution_count": 23,
   "id": "afa41dd9",
   "metadata": {},
   "outputs": [],
   "source": [
    "for i, prop in enumerate(properties):\n",
    "    sns.histplot(molecules_df[prop], kde=True, ax=axs[i])\n",
    "    axs[i].set_title(f'Distribution of {prop}')\n",
    "    axs[i].set_xlabel(prop)"
   ]
  },
  {
   "cell_type": "code",
   "execution_count": 24,
   "id": "1d0115d7",
   "metadata": {
    "lines_to_next_cell": 1
   },
   "outputs": [
    {
     "data": {
      "text/plain": [
       "<Figure size 640x480 with 0 Axes>"
      ]
     },
     "metadata": {},
     "output_type": "display_data"
    }
   ],
   "source": [
    "plt.tight_layout()\n",
    "plt.show()"
   ]
  },
  {
   "cell_type": "markdown",
   "id": "60062d63",
   "metadata": {},
   "source": [
    "## 5. String-Based Representations\n",
    "\n",
    "String-based representations encode molecules as text strings, providing a compact and human-readable format."
   ]
  },
  {
   "cell_type": "code",
   "execution_count": 25,
   "id": "f70b9d13",
   "metadata": {
    "lines_to_next_cell": 1
   },
   "outputs": [],
   "source": [
    "# @title SMILES and Alternative String Representations { display-mode: \"form\" }\n",
    "def generate_string_representations(smiles_list):\n",
    "    \"\"\"Generate different string representations for molecules.\"\"\"\n",
    "    \n",
    "    from rdkit.Chem import inchi\n",
    "    \n",
    "    results = []\n",
    "    \n",
    "    for smiles in smiles_list:\n",
    "        mol = Chem.MolFromSmiles(smiles)\n",
    "        if mol:\n",
    "            # Generate standard SMILES\n",
    "            canonical_smiles = Chem.MolToSmiles(mol, isomericSmiles=True)\n",
    "            \n",
    "            # Generate non-isomeric SMILES (without stereochemistry)\n",
    "            nonisomeric_smiles = Chem.MolToSmiles(mol, isomericSmiles=False)\n",
    "            \n",
    "            # Generate InChI and InChIKey\n",
    "            inchi_str = inchi.MolToInchi(mol)\n",
    "            inchikey = inchi.InchiToInchiKey(inchi_str)\n",
    "            \n",
    "            results.append({\n",
    "                'Original SMILES': smiles,\n",
    "                'Canonical SMILES': canonical_smiles,\n",
    "                'Non-isomeric SMILES': nonisomeric_smiles,\n",
    "                'InChI': inchi_str,\n",
    "                'InChIKey': inchikey\n",
    "            })\n",
    "    \n",
    "    return pd.DataFrame(results)"
   ]
  },
  {
   "cell_type": "code",
   "execution_count": 26,
   "id": "1079217f",
   "metadata": {},
   "outputs": [
    {
     "name": "stderr",
     "output_type": "stream",
     "text": [
      "[14:53:26] WARNING: Omitted undefined stereo\n",
      "\n",
      "[14:53:26] WARNING: Omitted undefined stereo\n",
      "\n"
     ]
    }
   ],
   "source": [
    "# Generate string representations for the first 5 molecules\n",
    "string_df = generate_string_representations(molecules_df['SMILES'][:5])"
   ]
  },
  {
   "cell_type": "code",
   "execution_count": 27,
   "id": "213e8fc6",
   "metadata": {
    "lines_to_next_cell": 1
   },
   "outputs": [
    {
     "name": "stdout",
     "output_type": "stream",
     "text": [
      "Different string representations for the same molecules:\n"
     ]
    },
    {
     "data": {
      "text/html": [
       "<div>\n",
       "<style scoped>\n",
       "    .dataframe tbody tr th:only-of-type {\n",
       "        vertical-align: middle;\n",
       "    }\n",
       "\n",
       "    .dataframe tbody tr th {\n",
       "        vertical-align: top;\n",
       "    }\n",
       "\n",
       "    .dataframe thead th {\n",
       "        text-align: right;\n",
       "    }\n",
       "</style>\n",
       "<table border=\"1\" class=\"dataframe\">\n",
       "  <thead>\n",
       "    <tr style=\"text-align: right;\">\n",
       "      <th></th>\n",
       "      <th>Original SMILES</th>\n",
       "      <th>Canonical SMILES</th>\n",
       "      <th>Non-isomeric SMILES</th>\n",
       "      <th>InChI</th>\n",
       "      <th>InChIKey</th>\n",
       "    </tr>\n",
       "  </thead>\n",
       "  <tbody>\n",
       "    <tr>\n",
       "      <th>0</th>\n",
       "      <td>CC(=O)OC1=CC=CC=C1C(=O)O</td>\n",
       "      <td>CC(=O)Oc1ccccc1C(=O)O</td>\n",
       "      <td>CC(=O)Oc1ccccc1C(=O)O</td>\n",
       "      <td>InChI=1S/C9H8O4/c1-6(10)13-8-5-3-2-4-7(8)9(11)12/h2-5H,1H3,(H,11,12)</td>\n",
       "      <td>BSYNRYMUTXBXSQ-UHFFFAOYSA-N</td>\n",
       "    </tr>\n",
       "    <tr>\n",
       "      <th>1</th>\n",
       "      <td>CN1C=NC2=C1C(=O)N(C(=O)N2C)C</td>\n",
       "      <td>Cn1c(=O)c2c(ncn2C)n(C)c1=O</td>\n",
       "      <td>Cn1c(=O)c2c(ncn2C)n(C)c1=O</td>\n",
       "      <td>InChI=1S/C8H10N4O2/c1-10-4-9-6-5(10)7(13)12(3)8(14)11(6)2/h4H,1-3H3</td>\n",
       "      <td>RYYVLZVUVIJVGH-UHFFFAOYSA-N</td>\n",
       "    </tr>\n",
       "    <tr>\n",
       "      <th>2</th>\n",
       "      <td>CC(C)CC1=CC=C(C=C1)C(C)C(=O)O</td>\n",
       "      <td>CC(C)Cc1ccc(C(C)C(=O)O)cc1</td>\n",
       "      <td>CC(C)Cc1ccc(C(C)C(=O)O)cc1</td>\n",
       "      <td>InChI=1S/C13H18O2/c1-9(2)8-11-4-6-12(7-5-11)10(3)13(14)15/h4-7,9-10H,8H2,1-3...</td>\n",
       "      <td>HEFNNWSXXWATRW-UHFFFAOYSA-N</td>\n",
       "    </tr>\n",
       "    <tr>\n",
       "      <th>3</th>\n",
       "      <td>CC1(C(N2C(S1)C(C2=O)NC(=O)CC3=CC=CC=C3)C(=O)O)C</td>\n",
       "      <td>CC1(C)SC2C(NC(=O)Cc3ccccc3)C(=O)N2C1C(=O)O</td>\n",
       "      <td>CC1(C)SC2C(NC(=O)Cc3ccccc3)C(=O)N2C1C(=O)O</td>\n",
       "      <td>InChI=1S/C16H18N2O4S/c1-16(2)12(15(21)22)18-13(20)11(14(18)23-16)17-10(19)8-...</td>\n",
       "      <td>JGSARLDLIJGVTE-UHFFFAOYSA-N</td>\n",
       "    </tr>\n",
       "    <tr>\n",
       "      <th>4</th>\n",
       "      <td>CC(=O)NC1=CC=C(C=C1)O</td>\n",
       "      <td>CC(=O)Nc1ccc(O)cc1</td>\n",
       "      <td>CC(=O)Nc1ccc(O)cc1</td>\n",
       "      <td>InChI=1S/C8H9NO2/c1-6(10)9-7-2-4-8(11)5-3-7/h2-5,11H,1H3,(H,9,10)</td>\n",
       "      <td>RZVAJINKPMORJF-UHFFFAOYSA-N</td>\n",
       "    </tr>\n",
       "  </tbody>\n",
       "</table>\n",
       "</div>"
      ],
      "text/plain": [
       "                                   Original SMILES  \\\n",
       "0                         CC(=O)OC1=CC=CC=C1C(=O)O   \n",
       "1                     CN1C=NC2=C1C(=O)N(C(=O)N2C)C   \n",
       "2                    CC(C)CC1=CC=C(C=C1)C(C)C(=O)O   \n",
       "3  CC1(C(N2C(S1)C(C2=O)NC(=O)CC3=CC=CC=C3)C(=O)O)C   \n",
       "4                            CC(=O)NC1=CC=C(C=C1)O   \n",
       "\n",
       "                             Canonical SMILES  \\\n",
       "0                       CC(=O)Oc1ccccc1C(=O)O   \n",
       "1                  Cn1c(=O)c2c(ncn2C)n(C)c1=O   \n",
       "2                  CC(C)Cc1ccc(C(C)C(=O)O)cc1   \n",
       "3  CC1(C)SC2C(NC(=O)Cc3ccccc3)C(=O)N2C1C(=O)O   \n",
       "4                          CC(=O)Nc1ccc(O)cc1   \n",
       "\n",
       "                          Non-isomeric SMILES  \\\n",
       "0                       CC(=O)Oc1ccccc1C(=O)O   \n",
       "1                  Cn1c(=O)c2c(ncn2C)n(C)c1=O   \n",
       "2                  CC(C)Cc1ccc(C(C)C(=O)O)cc1   \n",
       "3  CC1(C)SC2C(NC(=O)Cc3ccccc3)C(=O)N2C1C(=O)O   \n",
       "4                          CC(=O)Nc1ccc(O)cc1   \n",
       "\n",
       "                                                                             InChI  \\\n",
       "0             InChI=1S/C9H8O4/c1-6(10)13-8-5-3-2-4-7(8)9(11)12/h2-5H,1H3,(H,11,12)   \n",
       "1              InChI=1S/C8H10N4O2/c1-10-4-9-6-5(10)7(13)12(3)8(14)11(6)2/h4H,1-3H3   \n",
       "2  InChI=1S/C13H18O2/c1-9(2)8-11-4-6-12(7-5-11)10(3)13(14)15/h4-7,9-10H,8H2,1-3...   \n",
       "3  InChI=1S/C16H18N2O4S/c1-16(2)12(15(21)22)18-13(20)11(14(18)23-16)17-10(19)8-...   \n",
       "4                InChI=1S/C8H9NO2/c1-6(10)9-7-2-4-8(11)5-3-7/h2-5,11H,1H3,(H,9,10)   \n",
       "\n",
       "                      InChIKey  \n",
       "0  BSYNRYMUTXBXSQ-UHFFFAOYSA-N  \n",
       "1  RYYVLZVUVIJVGH-UHFFFAOYSA-N  \n",
       "2  HEFNNWSXXWATRW-UHFFFAOYSA-N  \n",
       "3  JGSARLDLIJGVTE-UHFFFAOYSA-N  \n",
       "4  RZVAJINKPMORJF-UHFFFAOYSA-N  "
      ]
     },
     "metadata": {},
     "output_type": "display_data"
    }
   ],
   "source": [
    "# Display the results\n",
    "print(\"Different string representations for the same molecules:\")\n",
    "pd.set_option('display.max_colwidth', 80)  # For better display\n",
    "display(string_df)"
   ]
  },
  {
   "cell_type": "markdown",
   "id": "633e0662",
   "metadata": {},
   "source": [
    "### 5.1 Properties of SMILES Representation"
   ]
  },
  {
   "cell_type": "code",
   "execution_count": 28,
   "id": "fd16b26e",
   "metadata": {
    "lines_to_next_cell": 1
   },
   "outputs": [],
   "source": [
    "# Demonstrate uniqueness issue with SMILES\n",
    "def demonstrate_smiles_properties():\n",
    "    # Create a molecule with multiple valid SMILES\n",
    "    mol = Chem.MolFromSmiles('c1ccccc1')  # Benzene\n",
    "    \n",
    "    # Generate some different SMILES for the same molecule\n",
    "    smiles1 = Chem.MolToSmiles(mol)\n",
    "    \n",
    "    # Create the same molecule a different way\n",
    "    mol2 = Chem.MolFromSmiles('C1=CC=CC=C1')  # Also benzene\n",
    "    smiles2 = Chem.MolToSmiles(mol2)\n",
    "    \n",
    "    # Create benzene with explicit hydrogens\n",
    "    mol3 = Chem.AddHs(mol)\n",
    "    smiles3 = Chem.MolToSmiles(mol3)\n",
    "    \n",
    "    # Demonstrate invariance issue\n",
    "    atoms = list(range(mol.GetNumAtoms()))\n",
    "    np.random.shuffle(atoms)\n",
    "    mol4 = Chem.RenumberAtoms(mol, atoms)\n",
    "    smiles4 = Chem.MolToSmiles(mol4, canonical=False)  # Non-canonical\n",
    "    smiles4_canonical = Chem.MolToSmiles(mol4)  # Canonical (should match smiles1)\n",
    "    \n",
    "    # Display results\n",
    "    results = pd.DataFrame({\n",
    "        'Representation': ['Standard SMILES', 'Alternative SMILES', 'SMILES with hydrogens', \n",
    "                         'Non-canonical SMILES', 'Canonical SMILES'],\n",
    "        'String': [smiles1, smiles2, smiles3, smiles4, smiles4_canonical],\n",
    "        'Notes': [\n",
    "            'Default representation', \n",
    "            'Using Kekulé structure',\n",
    "            'With explicit hydrogens',\n",
    "            'After atom reordering (non-canonical)',\n",
    "            'After atom reordering (canonical)'\n",
    "        ]\n",
    "    })\n",
    "    \n",
    "    display(results)\n",
    "    \n",
    "    print(\"\\nObservations:\")\n",
    "    print(\"1. The same molecule can have multiple SMILES representations\")\n",
    "    print(\"2. Canonical SMILES addresses the invariance issue by providing a unique representation\")\n",
    "    print(\"3. SMILES can represent the same molecule with different levels of detail\")"
   ]
  },
  {
   "cell_type": "code",
   "execution_count": 29,
   "id": "b1f0fb40",
   "metadata": {
    "lines_to_next_cell": 1
   },
   "outputs": [
    {
     "data": {
      "text/html": [
       "<div>\n",
       "<style scoped>\n",
       "    .dataframe tbody tr th:only-of-type {\n",
       "        vertical-align: middle;\n",
       "    }\n",
       "\n",
       "    .dataframe tbody tr th {\n",
       "        vertical-align: top;\n",
       "    }\n",
       "\n",
       "    .dataframe thead th {\n",
       "        text-align: right;\n",
       "    }\n",
       "</style>\n",
       "<table border=\"1\" class=\"dataframe\">\n",
       "  <thead>\n",
       "    <tr style=\"text-align: right;\">\n",
       "      <th></th>\n",
       "      <th>Representation</th>\n",
       "      <th>String</th>\n",
       "      <th>Notes</th>\n",
       "    </tr>\n",
       "  </thead>\n",
       "  <tbody>\n",
       "    <tr>\n",
       "      <th>0</th>\n",
       "      <td>Standard SMILES</td>\n",
       "      <td>c1ccccc1</td>\n",
       "      <td>Default representation</td>\n",
       "    </tr>\n",
       "    <tr>\n",
       "      <th>1</th>\n",
       "      <td>Alternative SMILES</td>\n",
       "      <td>c1ccccc1</td>\n",
       "      <td>Using Kekulé structure</td>\n",
       "    </tr>\n",
       "    <tr>\n",
       "      <th>2</th>\n",
       "      <td>SMILES with hydrogens</td>\n",
       "      <td>[H]c1c([H])c([H])c([H])c([H])c1[H]</td>\n",
       "      <td>With explicit hydrogens</td>\n",
       "    </tr>\n",
       "    <tr>\n",
       "      <th>3</th>\n",
       "      <td>Non-canonical SMILES</td>\n",
       "      <td>c1ccccc1</td>\n",
       "      <td>After atom reordering (non-canonical)</td>\n",
       "    </tr>\n",
       "    <tr>\n",
       "      <th>4</th>\n",
       "      <td>Canonical SMILES</td>\n",
       "      <td>c1ccccc1</td>\n",
       "      <td>After atom reordering (canonical)</td>\n",
       "    </tr>\n",
       "  </tbody>\n",
       "</table>\n",
       "</div>"
      ],
      "text/plain": [
       "          Representation                              String  \\\n",
       "0        Standard SMILES                            c1ccccc1   \n",
       "1     Alternative SMILES                            c1ccccc1   \n",
       "2  SMILES with hydrogens  [H]c1c([H])c([H])c([H])c([H])c1[H]   \n",
       "3   Non-canonical SMILES                            c1ccccc1   \n",
       "4       Canonical SMILES                            c1ccccc1   \n",
       "\n",
       "                                   Notes  \n",
       "0                 Default representation  \n",
       "1                 Using Kekulé structure  \n",
       "2                With explicit hydrogens  \n",
       "3  After atom reordering (non-canonical)  \n",
       "4      After atom reordering (canonical)  "
      ]
     },
     "metadata": {},
     "output_type": "display_data"
    },
    {
     "name": "stdout",
     "output_type": "stream",
     "text": [
      "\n",
      "Observations:\n",
      "1. The same molecule can have multiple SMILES representations\n",
      "2. Canonical SMILES addresses the invariance issue by providing a unique representation\n",
      "3. SMILES can represent the same molecule with different levels of detail\n"
     ]
    }
   ],
   "source": [
    "demonstrate_smiles_properties()"
   ]
  },
  {
   "cell_type": "markdown",
   "id": "ef0fd6ec",
   "metadata": {},
   "source": [
    "## 6. Fingerprint-Based Representations\n",
    "\n",
    "Molecular fingerprints are bit vectors or count vectors that encode the presence or frequency of specific structural features in a molecule."
   ]
  },
  {
   "cell_type": "code",
   "execution_count": 30,
   "id": "c14096f1",
   "metadata": {
    "lines_to_next_cell": 1
   },
   "outputs": [],
   "source": [
    "# @title Generate Different Types of Fingerprints { display-mode: \"form\" }\n",
    "def generate_fingerprints(mol, fp_type='morgan', radius=2, nBits=2048):\n",
    "    \"\"\"Generate different types of molecular fingerprints.\"\"\"\n",
    "    \n",
    "    if mol is None:\n",
    "        return None\n",
    "    \n",
    "    if fp_type == 'morgan':\n",
    "        # Morgan fingerprints (ECFP-like)\n",
    "        fp = AllChem.GetMorganFingerprintAsBitVect(mol, radius, nBits=nBits)\n",
    "    elif fp_type == 'maccs':\n",
    "        # MACCS keys (166 bits)\n",
    "        fp = MACCSkeys.GenMACCSKeys(mol)\n",
    "    elif fp_type == 'rdkit':\n",
    "        # RDKit topological fingerprint\n",
    "        fp = FingerprintMols.FingerprintMol(mol)\n",
    "    elif fp_type == 'atom_pair':\n",
    "        # Atom pair fingerprints\n",
    "        fp = Pairs.GetAtomPairFingerprint(mol)\n",
    "    elif fp_type == 'torsion':\n",
    "        # Topological torsion fingerprints\n",
    "        fp = Torsions.GetTopologicalTorsionFingerprint(mol)\n",
    "    else:\n",
    "        raise ValueError(f\"Fingerprint type '{fp_type}' not supported\")\n",
    "    \n",
    "    # Convert to NumPy array\n",
    "    array = np.zeros((1,))\n",
    "    DataStructs.ConvertToNumpyArray(fp, array)\n",
    "    \n",
    "    return array"
   ]
  },
  {
   "cell_type": "code",
   "execution_count": 31,
   "id": "aff75c0c",
   "metadata": {
    "lines_to_next_cell": 1
   },
   "outputs": [],
   "source": [
    "# Generate fingerprints for each molecule in the dataset\n",
    "def calculate_all_fingerprints(dataframe):\n",
    "    \"\"\"Calculate different types of fingerprints for all molecules in the dataset.\"\"\"\n",
    "    \n",
    "    # Dictionary to store results\n",
    "    fingerprints = {\n",
    "        'morgan': [],\n",
    "        'maccs': [],\n",
    "        'rdkit': [],\n",
    "        'atom_pair': [],\n",
    "        'torsion': []\n",
    "    }\n",
    "    \n",
    "    # Calculate fingerprints for each molecule\n",
    "    for mol in tqdm(dataframe['Molecule'], desc=\"Calculating fingerprints\"):\n",
    "        fingerprints['morgan'].append(generate_fingerprints(mol, 'morgan'))\n",
    "        fingerprints['maccs'].append(generate_fingerprints(mol, 'maccs'))\n",
    "        fingerprints['rdkit'].append(generate_fingerprints(mol, 'rdkit'))\n",
    "        fingerprints['atom_pair'].append(generate_fingerprints(mol, 'atom_pair'))\n",
    "        fingerprints['torsion'].append(generate_fingerprints(mol, 'torsion'))\n",
    "    \n",
    "    return fingerprints"
   ]
  },
  {
   "cell_type": "code",
   "execution_count": null,
   "id": "ae05b3d0",
   "metadata": {
    "lines_to_next_cell": 1
   },
   "outputs": [
    {
     "data": {
      "application/vnd.jupyter.widget-view+json": {
       "model_id": "89ebfaff0e0a4a96aa248e7f7f26c491",
       "version_major": 2,
       "version_minor": 0
      },
      "text/plain": [
       "Calculating fingerprints:   0%|          | 0/20 [00:00<?, ?it/s]"
      ]
     },
     "metadata": {},
     "output_type": "display_data"
    }
   ],
   "source": [
    "# Calculate fingerprints\n",
    "fingerprints = calculate_all_fingerprints(molecules_df)"
   ]
  },
  {
   "cell_type": "markdown",
   "id": "1cd04745",
   "metadata": {},
   "source": [
    "### 6.1 Visualizing Fingerprints"
   ]
  },
  {
   "cell_type": "code",
   "execution_count": null,
   "id": "0043a8c6",
   "metadata": {
    "lines_to_next_cell": 1
   },
   "outputs": [],
   "source": [
    "# @title Fingerprint Visualization { display-mode: \"form\" }\n",
    "def visualize_fingerprint(fp, title=\"Molecular Fingerprint\", n_bits=None):\n",
    "    \"\"\"Visualize a molecular fingerprint as a binary pattern.\"\"\"\n",
    "    if n_bits is None:\n",
    "        n_bits = len(fp)\n",
    "    \n",
    "    # Limit to first n_bits for visualization\n",
    "    fp_subset = fp[:n_bits]\n",
    "    \n",
    "    # Reshape to a more visual format\n",
    "    if n_bits > 100:\n",
    "        # Calculate dimensions for a roughly square layout\n",
    "        width = int(np.ceil(np.sqrt(n_bits)))\n",
    "        height = int(np.ceil(n_bits / width))\n",
    "        \n",
    "        # Pad the fingerprint to fit the grid\n",
    "        padded_fp = np.zeros(width * height)\n",
    "        padded_fp[:n_bits] = fp_subset\n",
    "        \n",
    "        # Reshape to grid\n",
    "        fp_grid = padded_fp.reshape(height, width)\n",
    "    else:\n",
    "        # For small fingerprints, just display as is\n",
    "        fp_grid = fp_subset.reshape(1, -1)\n",
    "    \n",
    "    plt.figure(figsize=(10, 6))\n",
    "    plt.imshow(fp_grid, cmap='binary', interpolation='nearest')\n",
    "    plt.title(title)\n",
    "    plt.colorbar(label='Bit value')\n",
    "    plt.tight_layout()\n",
    "    plt.show()\n",
    "    \n",
    "    # Print fingerprint statistics\n",
    "    total_bits = len(fp)\n",
    "    active_bits = np.sum(fp > 0)\n",
    "    print(f\"Fingerprint statistics:\")\n",
    "    print(f\"Total bits: {total_bits}\")\n",
    "    print(f\"Active bits: {active_bits} ({active_bits/total_bits:.2%})\")"
   ]
  },
  {
   "cell_type": "code",
   "execution_count": null,
   "id": "37821125",
   "metadata": {},
   "outputs": [],
   "source": [
    "# Let's visualize fingerprints for a sample molecule (Aspirin)\n",
    "aspirin_idx = molecules_df[molecules_df['Name'] == 'Aspirin'].index[0]"
   ]
  },
  {
   "cell_type": "code",
   "execution_count": null,
   "id": "74bcc693",
   "metadata": {},
   "outputs": [],
   "source": [
    "# Visualize different fingerprints for Aspirin\n",
    "print(\"Morgan (ECFP) Fingerprint for Aspirin:\")\n",
    "visualize_fingerprint(fingerprints['morgan'][aspirin_idx], \n",
    "                     \"Morgan Fingerprint (ECFP4) for Aspirin\", n_bits=256)"
   ]
  },
  {
   "cell_type": "code",
   "execution_count": null,
   "id": "319e714a",
   "metadata": {},
   "outputs": [],
   "source": [
    "print(\"\\nMACCS Keys for Aspirin:\")\n",
    "visualize_fingerprint(fingerprints['maccs'][aspirin_idx], \n",
    "                     \"MACCS Keys for Aspirin\")"
   ]
  },
  {
   "cell_type": "code",
   "execution_count": null,
   "id": "adaf862c",
   "metadata": {
    "lines_to_next_cell": 1
   },
   "outputs": [],
   "source": [
    "print(\"\\nRDKit Topological Fingerprint for Aspirin:\")\n",
    "visualize_fingerprint(fingerprints['rdkit'][aspirin_idx], \n",
    "                     \"RDKit Topological Fingerprint for Aspirin\", n_bits=256)"
   ]
  },
  {
   "cell_type": "markdown",
   "id": "06e3c70a",
   "metadata": {},
   "source": [
    "### 6.2 Fingerprint Similarity"
   ]
  },
  {
   "cell_type": "code",
   "execution_count": null,
   "id": "f29f0d16",
   "metadata": {
    "lines_to_next_cell": 1
   },
   "outputs": [],
   "source": [
    "def calculate_similarity_matrix(fingerprints, method='tanimoto'):\n",
    "    \"\"\"\n",
    "    Calculate similarity matrix between molecules based on fingerprints.\n",
    "    \n",
    "    Parameters:\n",
    "    -----------\n",
    "    fingerprints : list\n",
    "        List of fingerprints for all molecules\n",
    "    method : str\n",
    "        Similarity metric ('tanimoto', 'dice', 'cosine')\n",
    "        \n",
    "    Returns:\n",
    "    --------\n",
    "    numpy.ndarray\n",
    "        Similarity matrix\n",
    "    \"\"\"\n",
    "    n_mols = len(fingerprints)\n",
    "    similarity_matrix = np.zeros((n_mols, n_mols))\n",
    "    \n",
    "    for i in range(n_mols):\n",
    "        for j in range(i, n_mols):\n",
    "            # Different similarity metrics\n",
    "            if method == 'tanimoto':\n",
    "                sim = DataStructs.TanimotoSimilarity(\n",
    "                    DataStructs.cDataStructs.CreateFromBitString(''.join(str(int(b)) for b in fingerprints[i])),\n",
    "                    DataStructs.cDataStructs.CreateFromBitString(''.join(str(int(b)) for b in fingerprints[j]))\n",
    "                )\n",
    "            elif method == 'dice':\n",
    "                sim = DataStructs.DiceSimilarity(\n",
    "                    DataStructs.cDataStructs.CreateFromBitString(''.join(str(int(b)) for b in fingerprints[i])),\n",
    "                    DataStructs.cDataStructs.CreateFromBitString(''.join(str(int(b)) for b in fingerprints[j]))\n",
    "                )\n",
    "            elif method == 'cosine':\n",
    "                sim = cosine_similarity([fingerprints[i]], [fingerprints[j]])[0, 0]\n",
    "            \n",
    "            # Fill both sides of the symmetric matrix\n",
    "            similarity_matrix[i, j] = sim\n",
    "            similarity_matrix[j, i] = sim\n",
    "    \n",
    "    return similarity_matrix"
   ]
  },
  {
   "cell_type": "code",
   "execution_count": null,
   "id": "c0d7ca63",
   "metadata": {},
   "outputs": [],
   "source": [
    "# Calculate Tanimoto similarity for Morgan fingerprints\n",
    "morgan_similarity = calculate_similarity_matrix(fingerprints['morgan'], method='tanimoto')"
   ]
  },
  {
   "cell_type": "code",
   "execution_count": null,
   "id": "1ee8aa5f",
   "metadata": {
    "lines_to_next_cell": 1
   },
   "outputs": [],
   "source": [
    "# Visualize the similarity matrix\n",
    "plt.figure(figsize=(10, 8))\n",
    "sns.heatmap(morgan_similarity, cmap='viridis', xticklabels=molecules_df['Name'], \n",
    "           yticklabels=molecules_df['Name'], annot=False)\n",
    "plt.title('Molecular Similarity (Morgan Fingerprints with Tanimoto)')\n",
    "plt.xticks(rotation=90)\n",
    "plt.yticks(rotation=0)\n",
    "plt.tight_layout()\n",
    "plt.show()"
   ]
  },
  {
   "cell_type": "markdown",
   "id": "c17bdca8",
   "metadata": {},
   "source": [
    "## 7. Descriptor-Based Representations\n",
    "\n",
    "Molecular descriptors are numerical values that characterize various physical, chemical, and structural properties of molecules."
   ]
  },
  {
   "cell_type": "code",
   "execution_count": null,
   "id": "ca16a9f2",
   "metadata": {
    "lines_to_next_cell": 1
   },
   "outputs": [],
   "source": [
    "# @title Calculate Molecular Descriptors { display-mode: \"form\" }\n",
    "def calculate_descriptors(mol):\n",
    "    \"\"\"Calculate a comprehensive set of RDKit descriptors for a molecule.\"\"\"\n",
    "    \n",
    "    if mol is None:\n",
    "        return None\n",
    "    \n",
    "    # List of descriptor functions to calculate\n",
    "    descriptor_functions = [\n",
    "        # Physical properties\n",
    "        (Descriptors.MolWt, \"Molecular Weight\"),\n",
    "        (Descriptors.ExactMolWt, \"Exact Molecular Weight\"),\n",
    "        (Descriptors.HeavyAtomMolWt, \"Heavy Atom Molecular Weight\"),\n",
    "        (Descriptors.MolLogP, \"LogP\"),\n",
    "        (Descriptors.MolMR, \"Molar Refractivity\"),\n",
    "        (Descriptors.TPSA, \"Topological Polar Surface Area\"),\n",
    "        \n",
    "        # Atom counts and fractions\n",
    "        (Descriptors.HeavyAtomCount, \"Heavy Atom Count\"),\n",
    "        (Descriptors.NumValenceElectrons, \"Valence Electron Count\"),\n",
    "        (Descriptors.NumHDonors, \"H-Bond Donors\"),\n",
    "        (Descriptors.NumHAcceptors, \"H-Bond Acceptors\"),\n",
    "        (Descriptors.NHOHCount, \"NHOH Count\"),\n",
    "        (Descriptors.NOCount, \"NO Count\"),\n",
    "        (Descriptors.NumRotatableBonds, \"Rotatable Bonds\"),\n",
    "        (Descriptors.NumHeteroatoms, \"Heteroatom Count\"),\n",
    "        (Descriptors.FractionCSP3, \"Fraction of SP3 Carbon\"),\n",
    "        \n",
    "        # Topological descriptors\n",
    "        (Descriptors.BalabanJ, \"Balaban's J Index\"),\n",
    "        (Descriptors.BertzCT, \"Bertz CT\"),\n",
    "        (Descriptors.Chi0v, \"Atomic Connectivity Index (order 0)\"),\n",
    "        (Descriptors.Chi1v, \"Atomic Connectivity Index (order 1)\"),\n",
    "        (Descriptors.Chi2v, \"Atomic Connectivity Index (order 2)\"),\n",
    "        (Descriptors.Chi3v, \"Atomic Connectivity Index (order 3)\"),\n",
    "        (Descriptors.Chi4v, \"Atomic Connectivity Index (order 4)\"),\n",
    "        (Descriptors.HallKierAlpha, \"Hall-Kier Alpha\"),\n",
    "        \n",
    "        # Ring descriptors\n",
    "        (Descriptors.NumAromaticRings, \"Aromatic Ring Count\"),\n",
    "        (Descriptors.NumSaturatedRings, \"Saturated Ring Count\"),\n",
    "        (Descriptors.NumAliphaticRings, \"Aliphatic Ring Count\"),\n",
    "        (Descriptors.NumAromaticHeterocycles, \"Aromatic Heterocycle Count\"),\n",
    "        (Descriptors.NumSaturatedHeterocycles, \"Saturated Heterocycle Count\"),\n",
    "        (Descriptors.NumAliphaticHeterocycles, \"Aliphatic Heterocycle Count\"),\n",
    "        (Descriptors.NumAromaticCarbocycles, \"Aromatic Carbocycle Count\"),\n",
    "        (Descriptors.NumSaturatedCarbocycles, \"Saturated Carbocycle Count\"),\n",
    "        (Descriptors.NumAliphaticCarbocycles, \"Aliphatic Carbocycle Count\"),\n",
    "        \n",
    "        # Other descriptors\n",
    "        (Descriptors.LabuteASA, \"Labute ASA\"),\n",
    "        (Descriptors.Kappa1, \"Kappa 1\"),\n",
    "        (Descriptors.Kappa2, \"Kappa 2\"),\n",
    "        (Descriptors.Kappa3, \"Kappa 3\")\n",
    "    ]\n",
    "    \n",
    "    # Calculate descriptors\n",
    "    descriptors = {}\n",
    "    for func, name in descriptor_functions:\n",
    "        try:\n",
    "            value = func(mol)\n",
    "            descriptors[name] = value\n",
    "        except:\n",
    "            descriptors[name] = None\n",
    "    \n",
    "    return descriptors"
   ]
  },
  {
   "cell_type": "code",
   "execution_count": null,
   "id": "b0f38e99",
   "metadata": {
    "lines_to_next_cell": 1
   },
   "outputs": [],
   "source": [
    "# Calculate descriptors for all molecules\n",
    "def calculate_all_descriptors(dataframe):\n",
    "    \"\"\"Calculate descriptors for all molecules in the dataset.\"\"\"\n",
    "    \n",
    "    all_descriptors = []\n",
    "    \n",
    "    for mol in tqdm(dataframe['Molecule'], desc=\"Calculating descriptors\"):\n",
    "        desc = calculate_descriptors(mol)\n",
    "        all_descriptors.append(desc)\n",
    "    \n",
    "    # Convert to DataFrame\n",
    "    desc_df = pd.DataFrame(all_descriptors)\n",
    "    \n",
    "    return desc_df"
   ]
  },
  {
   "cell_type": "code",
   "execution_count": null,
   "id": "bc661e8f",
   "metadata": {},
   "outputs": [],
   "source": [
    "# Calculate descriptors\n",
    "descriptors_df = calculate_all_descriptors(molecules_df)"
   ]
  },
  {
   "cell_type": "code",
   "execution_count": null,
   "id": "06515a97",
   "metadata": {},
   "outputs": [],
   "source": [
    "# Add molecule names for reference\n",
    "descriptors_df['Name'] = molecules_df['Name']"
   ]
  },
  {
   "cell_type": "code",
   "execution_count": null,
   "id": "40cab497",
   "metadata": {
    "lines_to_next_cell": 1
   },
   "outputs": [],
   "source": [
    "# Display a sample of the descriptors\n",
    "print(f\"Total descriptors calculated: {descriptors_df.shape[1] - 1}\")  # minus Name column\n",
    "display(descriptors_df.head(5))"
   ]
  },
  {
   "cell_type": "markdown",
   "id": "77c94a65",
   "metadata": {},
   "source": [
    "### 7.1 Analyzing Molecular Descriptors"
   ]
  },
  {
   "cell_type": "code",
   "execution_count": null,
   "id": "e8c21956",
   "metadata": {
    "lines_to_next_cell": 1
   },
   "outputs": [],
   "source": [
    "# @title Descriptor Analysis and Correlation { display-mode: \"form\" }\n",
    "def analyze_descriptors(desc_df):\n",
    "    \"\"\"Analyze descriptor values and relationships.\"\"\"\n",
    "    \n",
    "    # Remove non-numeric columns\n",
    "    numeric_df = desc_df.select_dtypes(include=[np.number])\n",
    "    \n",
    "    # Calculate basic statistics\n",
    "    desc_stats = numeric_df.describe().T\n",
    "    desc_stats['Variance'] = numeric_df.var()\n",
    "    desc_stats['Missing'] = numeric_df.isnull().sum()\n",
    "    \n",
    "    # Sort by variance (for feature importance)\n",
    "    desc_stats = desc_stats.sort_values('Variance', ascending=False)\n",
    "    \n",
    "    # Display the most variable descriptors\n",
    "    print(\"Descriptors with highest variance:\")\n",
    "    display(desc_stats.head(10))\n",
    "    \n",
    "    # Calculate correlation matrix\n",
    "    corr_matrix = numeric_df.corr()\n",
    "    \n",
    "    # Visualize correlation matrix\n",
    "    plt.figure(figsize=(12, 10))\n",
    "    sns.heatmap(corr_matrix, cmap='coolwarm', center=0, linewidths=0.5, annot=False)\n",
    "    plt.title('Correlation Matrix of Molecular Descriptors')\n",
    "    plt.tight_layout()\n",
    "    plt.show()\n",
    "    \n",
    "    # Find highly correlated pairs\n",
    "    corr_pairs = []\n",
    "    for i in range(len(corr_matrix.columns)):\n",
    "        for j in range(i+1, len(corr_matrix.columns)):\n",
    "            corr = corr_matrix.iloc[i, j]\n",
    "            if abs(corr) > 0.9:  # Threshold for high correlation\n",
    "                corr_pairs.append((corr_matrix.columns[i], corr_matrix.columns[j], corr))\n",
    "    \n",
    "    # Display highly correlated pairs\n",
    "    if corr_pairs:\n",
    "        print(\"\\nHighly correlated descriptor pairs (|r| > 0.9):\")\n",
    "        for desc1, desc2, corr in sorted(corr_pairs, key=lambda x: abs(x[2]), reverse=True):\n",
    "            print(f\"{desc1} ~ {desc2}: r = {corr:.3f}\")\n",
    "    else:\n",
    "        print(\"\\nNo highly correlated descriptor pairs found.\")\n",
    "    \n",
    "    return desc_stats"
   ]
  },
  {
   "cell_type": "code",
   "execution_count": null,
   "id": "69aed51c",
   "metadata": {
    "lines_to_next_cell": 1
   },
   "outputs": [],
   "source": [
    "# Analyze descriptors\n",
    "desc_stats = analyze_descriptors(descriptors_df)"
   ]
  },
  {
   "cell_type": "markdown",
   "id": "8d0be539",
   "metadata": {},
   "source": [
    "### 7.2 Dimensionality Reduction for Descriptors"
   ]
  },
  {
   "cell_type": "code",
   "execution_count": null,
   "id": "d4e7727c",
   "metadata": {
    "lines_to_next_cell": 1
   },
   "outputs": [],
   "source": [
    "# @title PCA on Molecular Descriptors { display-mode: \"form\" }\n",
    "def perform_pca_on_descriptors(desc_df, n_components=2):\n",
    "    \"\"\"Perform PCA on molecular descriptors and visualize results.\"\"\"\n",
    "    \n",
    "    # Prepare data for PCA\n",
    "    # Remove non-numeric columns and handle missing values\n",
    "    numeric_df = desc_df.select_dtypes(include=[np.number])\n",
    "    numeric_df = numeric_df.fillna(numeric_df.mean())\n",
    "    \n",
    "    # Standardize the data\n",
    "    from sklearn.preprocessing import StandardScaler\n",
    "    scaler = StandardScaler()\n",
    "    scaled_data = scaler.fit_transform(numeric_df)\n",
    "    \n",
    "    # Perform PCA\n",
    "    pca = PCA(n_components=n_components)\n",
    "    pca_result = pca.fit_transform(scaled_data)\n",
    "    \n",
    "    # Create DataFrame with PCA results\n",
    "    pca_df = pd.DataFrame(\n",
    "        data=pca_result,\n",
    "        columns=[f'PC{i+1}' for i in range(n_components)]\n",
    "    )\n",
    "    pca_df['Name'] = desc_df['Name']\n",
    "    \n",
    "    # Visualize PCA results\n",
    "    plt.figure(figsize=(10, 8))\n",
    "    plt.scatter(pca_df['PC1'], pca_df['PC2'], alpha=0.8, s=100)\n",
    "    \n",
    "    # Add labels for each point\n",
    "    for i, txt in enumerate(pca_df['Name']):\n",
    "        plt.annotate(txt, (pca_df['PC1'].iloc[i], pca_df['PC2'].iloc[i]), fontsize=9,\n",
    "                   xytext=(5, 5), textcoords='offset points')\n",
    "    \n",
    "    # Add explained variance information\n",
    "    explained_var = pca.explained_variance_ratio_\n",
    "    plt.xlabel(f'PC1 ({explained_var[0]:.2%} explained variance)')\n",
    "    plt.ylabel(f'PC2 ({explained_var[1]:.2%} explained variance)')\n",
    "    plt.title('PCA of Molecular Descriptors')\n",
    "    plt.grid(alpha=0.3)\n",
    "    plt.tight_layout()\n",
    "    plt.show()\n",
    "    \n",
    "    # Get feature importance\n",
    "    components = pd.DataFrame(\n",
    "        data=pca.components_.T,\n",
    "        columns=[f'PC{i+1}' for i in range(n_components)],\n",
    "        index=numeric_df.columns\n",
    "    )\n",
    "    \n",
    "    # Display the most important features for each component\n",
    "    print(\"Top descriptors contributing to principal components:\")\n",
    "    for i in range(n_components):\n",
    "        pc = f'PC{i+1}'\n",
    "        top_features = components[pc].abs().sort_values(ascending=False).head(5)\n",
    "        print(f\"\\n{pc} (explains {explained_var[i]:.2%} of variance):\")\n",
    "        for j, (feature, importance) in enumerate(top_features.items(), 1):\n",
    "            print(f\"  {j}. {feature}: {importance:.3f}\")\n",
    "    \n",
    "    return pca_df, components"
   ]
  },
  {
   "cell_type": "code",
   "execution_count": null,
   "id": "0917351e",
   "metadata": {
    "lines_to_next_cell": 1
   },
   "outputs": [],
   "source": [
    "# Perform PCA\n",
    "pca_df, pca_components = perform_pca_on_descriptors(descriptors_df)"
   ]
  },
  {
   "cell_type": "markdown",
   "id": "83d11745",
   "metadata": {},
   "source": [
    "## 8. Graph-Based Representations\n",
    "\n",
    "Graph-based representations treat molecules as graphs, with atoms as nodes and bonds as edges. This preserves the full topological structure of the molecule."
   ]
  },
  {
   "cell_type": "code",
   "execution_count": null,
   "id": "fcc7cea5",
   "metadata": {
    "lines_to_next_cell": 1
   },
   "outputs": [],
   "source": [
    "# @title Molecule to Graph Conversion { display-mode: \"form\" }\n",
    "def mol_to_graph(mol):\n",
    "    \"\"\"Convert an RDKit molecule to a graph representation (adjacency matrix and feature matrices).\"\"\"\n",
    "    \n",
    "    if mol is None:\n",
    "        return None\n",
    "    \n",
    "    # Get number of atoms\n",
    "    n_atoms = mol.GetNumAtoms()\n",
    "    \n",
    "    # Initialize adjacency matrix\n",
    "    adjacency_matrix = np.zeros((n_atoms, n_atoms))\n",
    "    \n",
    "    # Fill adjacency matrix with bond information\n",
    "    for bond in mol.GetBonds():\n",
    "        start_atom = bond.GetBeginAtomIdx()\n",
    "        end_atom = bond.GetEndAtomIdx()\n",
    "        bond_type = bond.GetBondTypeAsDouble()\n",
    "        \n",
    "        # Set bond in both directions (undirected graph)\n",
    "        adjacency_matrix[start_atom, end_atom] = bond_type\n",
    "        adjacency_matrix[end_atom, start_atom] = bond_type\n",
    "    \n",
    "    # Create node feature matrix\n",
    "    node_features = []\n",
    "    \n",
    "    for atom in mol.GetAtoms():\n",
    "        # Basic atomic features\n",
    "        features = [\n",
    "            atom.GetAtomicNum(),         # Atomic number\n",
    "            atom.GetTotalDegree(),       # Total degree (number of bonds)\n",
    "            atom.GetFormalCharge(),      # Formal charge\n",
    "            atom.GetTotalNumHs(),        # Total number of Hydrogens\n",
    "            int(atom.GetIsAromatic()),   # Aromaticity flag\n",
    "            atom.GetMass(),              # Atomic mass\n",
    "            atom.GetImplicitValence()    # Implicit valence\n",
    "        ]\n",
    "        \n",
    "        node_features.append(features)\n",
    "    \n",
    "    return {\n",
    "        'adjacency_matrix': adjacency_matrix,\n",
    "        'node_features': np.array(node_features)\n",
    "    }"
   ]
  },
  {
   "cell_type": "code",
   "execution_count": null,
   "id": "e1460a29",
   "metadata": {
    "lines_to_next_cell": 1
   },
   "outputs": [],
   "source": [
    "# Convert a sample molecule to graph representation\n",
    "def visualize_molecule_graph(mol_name):\n",
    "    \"\"\"Visualize a molecule as a graph.\"\"\"\n",
    "    \n",
    "    # Get the molecule\n",
    "    mol_idx = molecules_df[molecules_df['Name'] == mol_name].index[0]\n",
    "    mol = molecules_df.loc[mol_idx, 'Molecule']\n",
    "    \n",
    "    # Convert to graph\n",
    "    graph = mol_to_graph(mol)\n",
    "    \n",
    "    if graph is None:\n",
    "        print(f\"Could not convert {mol_name} to graph representation.\")\n",
    "        return\n",
    "    \n",
    "    # Display the molecule\n",
    "    print(f\"Molecule: {mol_name}\")\n",
    "    display(Draw.MolToImage(mol, size=(300, 200)))\n",
    "    \n",
    "    # Display adjacency matrix\n",
    "    plt.figure(figsize=(8, 6))\n",
    "    plt.imshow(graph['adjacency_matrix'], cmap='viridis')\n",
    "    plt.colorbar(label='Bond Type')\n",
    "    plt.title(f'Adjacency Matrix for {mol_name}')\n",
    "    plt.tight_layout()\n",
    "    plt.show()\n",
    "    \n",
    "    # Display node features\n",
    "    node_df = pd.DataFrame(\n",
    "        graph['node_features'],\n",
    "        columns=['Atomic Number', 'Degree', 'Formal Charge', 'Num Hs', 'Is Aromatic', 'Mass', 'Implicit Valence']\n",
    "    )\n",
    "    \n",
    "    print(f\"\\nNode features for {mol_name}:\")\n",
    "    display(node_df)\n",
    "    \n",
    "    # Create a network visualization of the molecule\n",
    "    import networkx as nx\n",
    "    \n",
    "    G = nx.from_numpy_array(graph['adjacency_matrix'])\n",
    "    \n",
    "    # Get atom symbols for labels\n",
    "    atom_labels = {}\n",
    "    for i, atom in enumerate(mol.GetAtoms()):\n",
    "        atom_labels[i] = atom.GetSymbol()\n",
    "    \n",
    "    # Get node colors based on atom type\n",
    "    atom_colors = []\n",
    "    for atom in mol.GetAtoms():\n",
    "        # Simple color scheme\n",
    "        if atom.GetSymbol() == 'C':\n",
    "            atom_colors.append('grey')\n",
    "        elif atom.GetSymbol() == 'O':\n",
    "            atom_colors.append('red')\n",
    "        elif atom.GetSymbol() == 'N':\n",
    "            atom_colors.append('blue')\n",
    "        elif atom.GetSymbol() == 'S':\n",
    "            atom_colors.append('yellow')\n",
    "        elif atom.GetSymbol() == 'F' or atom.GetSymbol() == 'Cl' or atom.GetSymbol() == 'Br':\n",
    "            atom_colors.append('green')\n",
    "        else:\n",
    "            atom_colors.append('purple')\n",
    "    \n",
    "    # Draw the graph\n",
    "    plt.figure(figsize=(8, 6))\n",
    "    pos = nx.spring_layout(G, seed=42)  # For reproducible layout\n",
    "    \n",
    "    # Draw nodes\n",
    "    nx.draw_networkx_nodes(G, pos, node_color=atom_colors, node_size=500)\n",
    "    \n",
    "    # Get edge weights (bond types) for drawing\n",
    "    edge_weights = nx.get_edge_attributes(G, 'weight').items()\n",
    "    \n",
    "    # Draw edges with different styles based on bond type\n",
    "    single_edges = [(u, v) for (u, v, d) in G.edges(data=True) if d['weight'] == 1.0]\n",
    "    double_edges = [(u, v) for (u, v, d) in G.edges(data=True) if d['weight'] == 2.0]\n",
    "    triple_edges = [(u, v) for (u, v, d) in G.edges(data=True) if d['weight'] == 3.0]\n",
    "    aromatic_edges = [(u, v) for (u, v, d) in G.edges(data=True) if d['weight'] == 1.5]\n",
    "    \n",
    "    nx.draw_networkx_edges(G, pos, edgelist=single_edges, width=1.5)\n",
    "    nx.draw_networkx_edges(G, pos, edgelist=double_edges, width=2.5)\n",
    "    nx.draw_networkx_edges(G, pos, edgelist=triple_edges, width=3.5)\n",
    "    nx.draw_networkx_edges(G, pos, edgelist=aromatic_edges, width=1.5, style='dashed')\n",
    "    \n",
    "    # Draw labels\n",
    "    nx.draw_networkx_labels(G, pos, atom_labels)\n",
    "    \n",
    "    plt.title(f'Graph Representation of {mol_name}')\n",
    "    plt.axis('off')\n",
    "    plt.tight_layout()\n",
    "    plt.show()"
   ]
  },
  {
   "cell_type": "code",
   "execution_count": null,
   "id": "928432e2",
   "metadata": {
    "lines_to_next_cell": 1
   },
   "outputs": [],
   "source": [
    "# Visualize graph representations of a few molecules\n",
    "visualize_molecule_graph('Aspirin')\n",
    "visualize_molecule_graph('Paracetamol')"
   ]
  },
  {
   "cell_type": "markdown",
   "id": "f6f129b4",
   "metadata": {},
   "source": [
    "## 9. 3D Representations\n",
    "\n",
    "3D representations capture the three-dimensional structure of molecules, which is often crucial for understanding biological activity."
   ]
  },
  {
   "cell_type": "code",
   "execution_count": null,
   "id": "d8abd52d",
   "metadata": {
    "lines_to_next_cell": 1
   },
   "outputs": [],
   "source": [
    "# @title Generate and Visualize 3D Structures { display-mode: \"form\" }\n",
    "def generate_3d_conformer(mol, optimize=True):\n",
    "    \"\"\"Generate a 3D conformer for a molecule.\"\"\"\n",
    "    \n",
    "    if mol is None:\n",
    "        return None\n",
    "    \n",
    "    # Create a copy of the molecule\n",
    "    mol_3d = Chem.Mol(mol)\n",
    "    \n",
    "    # Add hydrogens\n",
    "    mol_3d = Chem.AddHs(mol_3d)\n",
    "    \n",
    "    # Generate 3D coordinates\n",
    "    try:\n",
    "        AllChem.EmbedMolecule(mol_3d, randomSeed=42)\n",
    "        \n",
    "        # Energy minimize with MMFF\n",
    "        if optimize:\n",
    "            AllChem.MMFFOptimizeMolecule(mol_3d)\n",
    "        \n",
    "        return mol_3d\n",
    "    except:\n",
    "        print(f\"Could not generate 3D conformer.\")\n",
    "        return None"
   ]
  },
  {
   "cell_type": "code",
   "execution_count": null,
   "id": "dfee4112",
   "metadata": {
    "lines_to_next_cell": 1
   },
   "outputs": [],
   "source": [
    "# Generate 3D conformers for visualization\n",
    "def visualize_3d_molecule(mol_name):\n",
    "    \"\"\"Generate and visualize a 3D structure for a molecule.\"\"\"\n",
    "    \n",
    "    # Get the molecule\n",
    "    mol_idx = molecules_df[molecules_df['Name'] == mol_name].index[0]\n",
    "    mol = molecules_df.loc[mol_idx, 'Molecule']\n",
    "    \n",
    "    # Generate 3D conformer\n",
    "    mol_3d = generate_3d_conformer(mol)\n",
    "    \n",
    "    if mol_3d is None:\n",
    "        print(f\"Could not generate 3D conformer for {mol_name}.\")\n",
    "        return\n",
    "    \n",
    "    # Get atomic coordinates\n",
    "    conf = mol_3d.GetConformer()\n",
    "    coords = np.array([conf.GetAtomPosition(i) for i in range(mol_3d.GetNumAtoms())])\n",
    "    \n",
    "    # Get atom symbols\n",
    "    atom_symbols = [atom.GetSymbol() for atom in mol_3d.GetAtoms()]\n",
    "    \n",
    "    # Create a map of atom symbols to colors\n",
    "    atom_colors = {\n",
    "        'C': 'grey',\n",
    "        'O': 'red',\n",
    "        'N': 'blue',\n",
    "        'S': 'yellow',\n",
    "        'F': 'green',\n",
    "        'Cl': 'green',\n",
    "        'Br': 'brown',\n",
    "        'I': 'purple',\n",
    "        'H': 'white'\n",
    "    }\n",
    "    \n",
    "    # Get colors for each atom\n",
    "    colors = [atom_colors.get(symbol, 'pink') for symbol in atom_symbols]\n",
    "    \n",
    "    # Display the 2D structure for reference\n",
    "    print(f\"Molecule: {mol_name}\")\n",
    "    display(Draw.MolToImage(mol, size=(300, 200)))\n",
    "    \n",
    "    # Create 3D visualization\n",
    "    from mpl_toolkits.mplot3d import Axes3D\n",
    "    \n",
    "    fig = plt.figure(figsize=(10, 8))\n",
    "    ax = fig.add_subplot(111, projection='3d')\n",
    "    \n",
    "    # Plot atoms\n",
    "    ax.scatter(coords[:, 0], coords[:, 1], coords[:, 2], c=colors, s=100)\n",
    "    \n",
    "    # Plot bonds\n",
    "    for bond in mol_3d.GetBonds():\n",
    "        idx1 = bond.GetBeginAtomIdx()\n",
    "        idx2 = bond.GetEndAtomIdx()\n",
    "        \n",
    "        # Get coordinates\n",
    "        pos1 = coords[idx1]\n",
    "        pos2 = coords[idx2]\n",
    "        \n",
    "        # Plot the bond\n",
    "        ax.plot([pos1[0], pos2[0]], [pos1[1], pos2[1]], [pos1[2], pos2[2]], 'k-', alpha=0.6)\n",
    "    \n",
    "    # Customize the plot\n",
    "    ax.set_title(f'3D Structure of {mol_name}')\n",
    "    \n",
    "    # Set axis labels and limits\n",
    "    ax.set_xlabel('X')\n",
    "    ax.set_ylabel('Y')\n",
    "    ax.set_zlabel('Z')\n",
    "    \n",
    "    # Set equal aspect ratio\n",
    "    max_range = np.array([coords[:, 0].max() - coords[:, 0].min(),\n",
    "                         coords[:, 1].max() - coords[:, 1].min(),\n",
    "                         coords[:, 2].max() - coords[:, 2].min()]).max() / 2.0\n",
    "    \n",
    "    mid_x = (coords[:, 0].max() + coords[:, 0].min()) / 2.0\n",
    "    mid_y = (coords[:, 1].max() + coords[:, 1].min()) / 2.0\n",
    "    mid_z = (coords[:, 2].max() + coords[:, 2].min()) / 2.0\n",
    "    \n",
    "    ax.set_xlim(mid_x - max_range, mid_x + max_range)\n",
    "    ax.set_ylim(mid_y - max_range, mid_y + max_range)\n",
    "    ax.set_zlim(mid_z - max_range, mid_z + max_range)\n",
    "    \n",
    "    plt.tight_layout()\n",
    "    plt.show()\n",
    "    \n",
    "    # Display the 3D distance matrix\n",
    "    print(f\"\\n3D Distance Matrix for {mol_name}:\")\n",
    "    \n",
    "    # Calculate distance matrix\n",
    "    n_atoms = mol_3d.GetNumAtoms()\n",
    "    distance_matrix = np.zeros((n_atoms, n_atoms))\n",
    "    \n",
    "    for i in range(n_atoms):\n",
    "        for j in range(i+1, n_atoms):\n",
    "            # Calculate Euclidean distance\n",
    "            pos_i = np.array(conf.GetAtomPosition(i))\n",
    "            pos_j = np.array(conf.GetAtomPosition(j))\n",
    "            dist = np.linalg.norm(pos_i - pos_j)\n",
    "            \n",
    "            # Store distance in the matrix\n",
    "            distance_matrix[i, j] = dist\n",
    "            distance_matrix[j, i] = dist\n",
    "    \n",
    "    # Create a more readable version of the matrix for display\n",
    "    atom_indices = [f\"{atom.GetSymbol()}{i}\" for i, atom in enumerate(mol_3d.GetAtoms())]\n",
    "    distance_df = pd.DataFrame(distance_matrix, index=atom_indices, columns=atom_indices)\n",
    "    \n",
    "    # Display a subset for readability (non-hydrogen atoms only)\n",
    "    non_h_indices = [idx for idx, symbol in enumerate(atom_symbols) if symbol != 'H']\n",
    "    non_h_labels = [atom_indices[i] for i in non_h_indices]\n",
    "    \n",
    "    display(distance_df.loc[non_h_labels, non_h_labels].round(2))"
   ]
  },
  {
   "cell_type": "code",
   "execution_count": null,
   "id": "23c4cb00",
   "metadata": {
    "lines_to_next_cell": 1
   },
   "outputs": [],
   "source": [
    "# Visualize 3D structure of a molecule\n",
    "visualize_3d_molecule('Aspirin')"
   ]
  },
  {
   "cell_type": "markdown",
   "id": "17aa3c60",
   "metadata": {},
   "source": [
    "## 10. Similarity and Kernels for Molecules\n",
    "\n",
    "Kernels and similarity measures are essential for many machine learning methods, especially for Bayesian optimization. Here we'll explore different similarity metrics for molecules."
   ]
  },
  {
   "cell_type": "code",
   "execution_count": null,
   "id": "9ff207a2",
   "metadata": {
    "lines_to_next_cell": 1
   },
   "outputs": [],
   "source": [
    "# @title Molecular Similarity Calculation { display-mode: \"form\" }\n",
    "def calculate_multiple_similarities(mol1, mol2):\n",
    "    \"\"\"Calculate different similarity metrics between two molecules.\"\"\"\n",
    "    \n",
    "    if mol1 is None or mol2 is None:\n",
    "        return None\n",
    "    \n",
    "    # Generate different fingerprints\n",
    "    fp1_morgan = AllChem.GetMorganFingerprintAsBitVect(mol1, 2, nBits=2048)\n",
    "    fp2_morgan = AllChem.GetMorganFingerprintAsBitVect(mol2, 2, nBits=2048)\n",
    "    \n",
    "    fp1_maccs = MACCSkeys.GenMACCSKeys(mol1)\n",
    "    fp2_maccs = MACCSkeys.GenMACCSKeys(mol2)\n",
    "    \n",
    "    fp1_rdkit = FingerprintMols.FingerprintMol(mol1)\n",
    "    fp2_rdkit = FingerprintMols.FingerprintMol(mol2)\n",
    "    \n",
    "    # Calculate similarities\n",
    "    tanimoto_morgan = DataStructs.TanimotoSimilarity(fp1_morgan, fp2_morgan)\n",
    "    tanimoto_maccs = DataStructs.TanimotoSimilarity(fp1_maccs, fp2_maccs)\n",
    "    tanimoto_rdkit = DataStructs.TanimotoSimilarity(fp1_rdkit, fp2_rdkit)\n",
    "    \n",
    "    dice_morgan = DataStructs.DiceSimilarity(fp1_morgan, fp2_morgan)\n",
    "    cosine_morgan = DataStructs.CosineSimilarity(fp1_morgan, fp2_morgan)\n",
    "    \n",
    "    # Molecular descriptor similarity\n",
    "    desc1 = calculate_descriptors(mol1)\n",
    "    desc2 = calculate_descriptors(mol2)\n",
    "    \n",
    "    # Convert descriptors to vector (only numeric values)\n",
    "    desc_vector1 = np.array([v for k, v in desc1.items() if isinstance(v, (int, float)) and v is not None])\n",
    "    desc_vector2 = np.array([v for k, v in desc2.items() if isinstance(v, (int, float)) and v is not None])\n",
    "    \n",
    "    # Ensure vectors are the same length (use min length)\n",
    "    min_len = min(len(desc_vector1), len(desc_vector2))\n",
    "    desc_vector1 = desc_vector1[:min_len]\n",
    "    desc_vector2 = desc_vector2[:min_len]\n",
    "    \n",
    "    # Calculate Euclidean distance\n",
    "    euclidean_desc = np.linalg.norm(desc_vector1 - desc_vector2)\n",
    "    \n",
    "    # Normalize to similarity score (1 for identical, 0 for very different)\n",
    "    # Using a simple exponential transformation\n",
    "    desc_similarity = np.exp(-euclidean_desc / 100)\n",
    "    \n",
    "    return {\n",
    "        'Tanimoto (Morgan)': tanimoto_morgan,\n",
    "        'Tanimoto (MACCS)': tanimoto_maccs,\n",
    "        'Tanimoto (RDKit)': tanimoto_rdkit,\n",
    "        'Dice (Morgan)': dice_morgan,\n",
    "        'Cosine (Morgan)': cosine_morgan,\n",
    "        'Descriptor Similarity': desc_similarity\n",
    "    }"
   ]
  },
  {
   "cell_type": "code",
   "execution_count": null,
   "id": "b9a3c412",
   "metadata": {
    "lines_to_next_cell": 1
   },
   "outputs": [],
   "source": [
    "# Compare some molecules\n",
    "def compare_molecules(name1, name2):\n",
    "    \"\"\"Compare two molecules using different similarity metrics.\"\"\"\n",
    "    \n",
    "    # Get the molecules\n",
    "    mol1_idx = molecules_df[molecules_df['Name'] == name1].index[0]\n",
    "    mol2_idx = molecules_df[molecules_df['Name'] == name2].index[0]\n",
    "    \n",
    "    mol1 = molecules_df.loc[mol1_idx, 'Molecule']\n",
    "    mol2 = molecules_df.loc[mol2_idx, 'Molecule']\n",
    "    \n",
    "    # Calculate similarities\n",
    "    similarities = calculate_multiple_similarities(mol1, mol2)\n",
    "    \n",
    "    if similarities is None:\n",
    "        print(f\"Could not calculate similarities between {name1} and {name2}.\")\n",
    "        return\n",
    "    \n",
    "    # Display the molecules\n",
    "    print(f\"Comparing {name1} and {name2}:\")\n",
    "    \n",
    "    # Create a side-by-side visualization\n",
    "    img = Draw.MolsToGridImage([mol1, mol2], molsPerRow=2, \n",
    "                              subImgSize=(300, 200),\n",
    "                              legends=[name1, name2])\n",
    "    display(img)\n",
    "    \n",
    "    # Display similarity scores\n",
    "    sim_df = pd.DataFrame({\n",
    "        'Similarity Metric': list(similarities.keys()),\n",
    "        'Score': list(similarities.values())\n",
    "    })\n",
    "    \n",
    "    # Sort by score\n",
    "    sim_df = sim_df.sort_values('Score', ascending=False)\n",
    "    \n",
    "    # Display as bar chart\n",
    "    plt.figure(figsize=(10, 6))\n",
    "    sns.barplot(x='Score', y='Similarity Metric', data=sim_df)\n",
    "    plt.title(f'Similarity Metrics: {name1} vs {name2}')\n",
    "    plt.xlim(0, 1)\n",
    "    plt.tight_layout()\n",
    "    plt.show()"
   ]
  },
  {
   "cell_type": "code",
   "execution_count": null,
   "id": "ff159894",
   "metadata": {
    "lines_to_next_cell": 1
   },
   "outputs": [],
   "source": [
    "# Compare some pair of molecules\n",
    "compare_molecules('Aspirin', 'Ibuprofen')\n",
    "compare_molecules('Aspirin', 'Paracetamol')"
   ]
  },
  {
   "cell_type": "markdown",
   "id": "4dd1c2c6",
   "metadata": {},
   "source": [
    "### 10.1 Kernel Functions for Molecular Machine Learning"
   ]
  },
  {
   "cell_type": "code",
   "execution_count": null,
   "id": "f5a55eab",
   "metadata": {
    "lines_to_next_cell": 1
   },
   "outputs": [],
   "source": [
    "# @title Implement Molecular Kernels { display-mode: \"form\" }\n",
    "def tanimoto_kernel(fp1, fp2):\n",
    "    \"\"\"\n",
    "    Tanimoto kernel function for bit vectors.\n",
    "    \n",
    "    Parameters:\n",
    "    -----------\n",
    "    fp1, fp2 : numpy arrays\n",
    "        Fingerprint bit vectors\n",
    "        \n",
    "    Returns:\n",
    "    --------\n",
    "    float\n",
    "        Tanimoto similarity\n",
    "    \"\"\"\n",
    "    intersection = np.sum(np.logical_and(fp1, fp2))\n",
    "    union = np.sum(np.logical_or(fp1, fp2))\n",
    "    \n",
    "    if union == 0:\n",
    "        return 0.0\n",
    "    \n",
    "    return intersection / union"
   ]
  },
  {
   "cell_type": "code",
   "execution_count": null,
   "id": "e6ed66fa",
   "metadata": {
    "lines_to_next_cell": 1
   },
   "outputs": [],
   "source": [
    "def gaussian_kernel(x1, x2, sigma=1.0):\n",
    "    \"\"\"\n",
    "    Gaussian (RBF) kernel for molecular descriptors.\n",
    "    \n",
    "    Parameters:\n",
    "    -----------\n",
    "    x1, x2 : numpy arrays\n",
    "        Feature vectors\n",
    "    sigma : float\n",
    "        Kernel width parameter\n",
    "        \n",
    "    Returns:\n",
    "    --------\n",
    "    float\n",
    "        Gaussian kernel value\n",
    "    \"\"\"\n",
    "    return np.exp(-np.sum((x1 - x2)**2) / (2 * sigma**2))"
   ]
  },
  {
   "cell_type": "code",
   "execution_count": null,
   "id": "d5b20789",
   "metadata": {
    "lines_to_next_cell": 1
   },
   "outputs": [],
   "source": [
    "def minmax_kernel(fp1, fp2):\n",
    "    \"\"\"\n",
    "    MinMax kernel for bit vectors (fingerprints).\n",
    "    \n",
    "    Parameters:\n",
    "    -----------\n",
    "    fp1, fp2 : numpy arrays\n",
    "        Fingerprint bit vectors\n",
    "        \n",
    "    Returns:\n",
    "    --------\n",
    "    float\n",
    "        MinMax kernel value\n",
    "    \"\"\"\n",
    "    intersection = np.sum(np.logical_and(fp1, fp2))\n",
    "    sum_min = np.sum(np.minimum(fp1, fp2))\n",
    "    sum_max = np.sum(np.maximum(fp1, fp2))\n",
    "    \n",
    "    if sum_max == 0:\n",
    "        return 0.0\n",
    "    \n",
    "    return intersection / sum_max"
   ]
  },
  {
   "cell_type": "code",
   "execution_count": null,
   "id": "875ced4f",
   "metadata": {
    "lines_to_next_cell": 1
   },
   "outputs": [],
   "source": [
    "# Demonstrate kernels on molecular data\n",
    "def visualize_kernel_matrix(kernel_func, data, labels):\n",
    "    \"\"\"\n",
    "    Visualize a kernel matrix for a set of molecules.\n",
    "    \n",
    "    Parameters:\n",
    "    -----------\n",
    "    kernel_func : function\n",
    "        Kernel function to compute similarity\n",
    "    data : list of numpy arrays\n",
    "        List of fingerprints or feature vectors\n",
    "    labels : list of str\n",
    "        List of molecule names\n",
    "        \n",
    "    Returns:\n",
    "    --------\n",
    "    numpy.ndarray\n",
    "        Kernel matrix\n",
    "    \"\"\"\n",
    "    n = len(data)\n",
    "    K = np.zeros((n, n))\n",
    "    \n",
    "    for i in range(n):\n",
    "        for j in range(n):\n",
    "            K[i, j] = kernel_func(data[i], data[j])\n",
    "    \n",
    "    # Visualize the kernel matrix\n",
    "    plt.figure(figsize=(10, 8))\n",
    "    sns.heatmap(K, annot=False, cmap='viridis', xticklabels=labels, yticklabels=labels)\n",
    "    plt.title('Kernel Matrix')\n",
    "    plt.tight_layout()\n",
    "    plt.show()\n",
    "    \n",
    "    return K"
   ]
  },
  {
   "cell_type": "code",
   "execution_count": null,
   "id": "cfcd0641",
   "metadata": {},
   "outputs": [],
   "source": [
    "# Get Morgan fingerprints for kernel demonstration\n",
    "morgan_fps = [fp for fp in fingerprints['morgan']]\n",
    "mol_names = molecules_df['Name'].tolist()"
   ]
  },
  {
   "cell_type": "code",
   "execution_count": null,
   "id": "f72dce64",
   "metadata": {},
   "outputs": [],
   "source": [
    "# Select a subset for better visualization\n",
    "subset_size = 10\n",
    "subset_indices = np.random.choice(len(morgan_fps), subset_size, replace=False)\n",
    "subset_fps = [morgan_fps[i] for i in subset_indices]\n",
    "subset_names = [mol_names[i] for i in subset_indices]"
   ]
  },
  {
   "cell_type": "code",
   "execution_count": null,
   "id": "21987d5e",
   "metadata": {},
   "outputs": [],
   "source": [
    "# Visualize Tanimoto kernel matrix\n",
    "print(\"Tanimoto Kernel Matrix:\")\n",
    "tanimoto_matrix = visualize_kernel_matrix(tanimoto_kernel, subset_fps, subset_names)"
   ]
  },
  {
   "cell_type": "code",
   "execution_count": null,
   "id": "dab95a10",
   "metadata": {},
   "outputs": [],
   "source": [
    "# Get descriptor vectors for Gaussian kernel\n",
    "# Using a subset of descriptors for simplicity\n",
    "desc_vectors = []\n",
    "selected_descs = ['Molecular Weight', 'LogP', 'Topological Polar Surface Area', \n",
    "                 'H-Bond Donors', 'H-Bond Acceptors', 'Rotatable Bonds']"
   ]
  },
  {
   "cell_type": "code",
   "execution_count": null,
   "id": "5b2339c0",
   "metadata": {},
   "outputs": [],
   "source": [
    "for i in subset_indices:\n",
    "    desc = [descriptors_df.iloc[i][desc] for desc in selected_descs]\n",
    "    desc_vectors.append(np.array(desc))"
   ]
  },
  {
   "cell_type": "code",
   "execution_count": null,
   "id": "4f496904",
   "metadata": {},
   "outputs": [],
   "source": [
    "# Normalize descriptors\n",
    "desc_array = np.array(desc_vectors)\n",
    "desc_mean = np.mean(desc_array, axis=0)\n",
    "desc_std = np.std(desc_array, axis=0)\n",
    "desc_norm = (desc_array - desc_mean) / desc_std"
   ]
  },
  {
   "cell_type": "code",
   "execution_count": null,
   "id": "11f0f240",
   "metadata": {
    "lines_to_next_cell": 1
   },
   "outputs": [],
   "source": [
    "print(\"\\nGaussian Kernel Matrix (on molecular descriptors):\")\n",
    "gaussian_matrix = visualize_kernel_matrix(\n",
    "    lambda x, y: gaussian_kernel(x, y, sigma=1.0), \n",
    "    desc_norm, \n",
    "    subset_names\n",
    ")"
   ]
  },
  {
   "cell_type": "markdown",
   "id": "3c1d06bb",
   "metadata": {},
   "source": [
    "## 11. Choosing the Right Representation\n",
    "\n",
    "The choice of molecular representation depends on the specific task, available data, computational resources, and the machine learning method being used."
   ]
  },
  {
   "cell_type": "code",
   "execution_count": null,
   "id": "a1f730e9",
   "metadata": {
    "lines_to_next_cell": 1
   },
   "outputs": [],
   "source": [
    "# @title Representation Selection Guide { display-mode: \"form\" }\n",
    "# Create a decision tree-like guide for representation selection\n",
    "def show_representation_guide():\n",
    "    \"\"\"Display a guide for selecting appropriate molecular representations.\"\"\"\n",
    "    \n",
    "    html = \"\"\"\n",
    "    <div style=\"background-color:#f8f9fa; padding:20px; border-radius:10px; line-height:1.5;\">\n",
    "    <h3 style=\"text-align:center;\">Guide for Selecting Molecular Representations</h3>\n",
    "    \n",
    "    <h4>Based on Machine Learning Task:</h4>\n",
    "    <ul>\n",
    "        <li><strong>Property prediction (regression/classification):</strong>\n",
    "            <ul>\n",
    "                <li>Fingerprints (Morgan/ECFP) for general purpose</li>\n",
    "                <li>Descriptors when interpretability is important</li>\n",
    "                <li>Graph representations for deep learning methods</li>\n",
    "            </ul>\n",
    "        </li>\n",
    "        <li><strong>Virtual screening/similarity search:</strong>\n",
    "            <ul>\n",
    "                <li>Fingerprints (Morgan/ECFP, MACCS) for speed and effectiveness</li>\n",
    "                <li>Pharmacophore features when binding information is available</li>\n",
    "            </ul>\n",
    "        </li>\n",
    "        <li><strong>De novo molecule design:</strong>\n",
    "            <ul>\n",
    "                <li>SMILES or graph representations for generative models</li>\n",
    "                <li>3D coordinates for structure-based design</li>\n",
    "            </ul>\n",
    "        </li>\n",
    "        <li><strong>Reaction prediction:</strong>\n",
    "            <ul>\n",
    "                <li>Fingerprints with reaction information</li>\n",
    "                <li>Graph representations for mechanistic understanding</li>\n",
    "            </ul>\n",
    "        </li>\n",
    "        <li><strong>Protein-ligand interactions:</strong>\n",
    "            <ul>\n",
    "                <li>3D representations or pharmacophore features</li>\n",
    "                <li>Fingerprints that capture interaction patterns</li>\n",
    "            </ul>\n",
    "        </li>\n",
    "    </ul>\n",
    "    \n",
    "    <h4>Based on Dataset Size:</h4>\n",
    "    <ul>\n",
    "        <li><strong>Small datasets (&lt;1000 compounds):</strong>\n",
    "            <ul>\n",
    "                <li>Descriptors with feature selection</li>\n",
    "                <li>Fingerprints with low dimensionality (MACCS)</li>\n",
    "                <li>Avoid complex 3D or graph representations</li>\n",
    "            </ul>\n",
    "        </li>\n",
    "        <li><strong>Medium datasets (1000-10,000 compounds):</strong>\n",
    "            <ul>\n",
    "                <li>Morgan/ECFP fingerprints</li>\n",
    "                <li>Combined fingerprint and descriptor approaches</li>\n",
    "            </ul>\n",
    "        </li>\n",
    "        <li><strong>Large datasets (&gt;10,000 compounds):</strong>\n",
    "            <ul>\n",
    "                <li>Graph representations with neural networks</li>\n",
    "                <li>High-dimensional fingerprints</li>\n",
    "                <li>Learned representations</li>\n",
    "            </ul>\n",
    "        </li>\n",
    "    </ul>\n",
    "    \n",
    "    <h4>Based on Chemical Space Coverage:</h4>\n",
    "    <ul>\n",
    "        <li><strong>Focused/related compound series:</strong>\n",
    "            <ul>\n",
    "                <li>Specialized fingerprints highlighting important substructures</li>\n",
    "                <li>Descriptors capturing key property differences</li>\n",
    "            </ul>\n",
    "        </li>\n",
    "        <li><strong>Diverse compound collections:</strong>\n",
    "            <ul>\n",
    "                <li>General-purpose fingerprints (Morgan/ECFP)</li>\n",
    "                <li>Graph representations</li>\n",
    "            </ul>\n",
    "        </li>\n",
    "    </ul>\n",
    "    \n",
    "    <h4>Based on Computational Resources:</h4>\n",
    "    <ul>\n",
    "        <li><strong>Limited resources:</strong>\n",
    "            <ul>\n",
    "                <li>MACCS keys or other low-dimensional fingerprints</li>\n",
    "                <li>Selected descriptors</li>\n",
    "            </ul>\n",
    "        </li>\n",
    "        <li><strong>Standard resources:</strong>\n",
    "            <ul>\n",
    "                <li>Morgan/ECFP fingerprints</li>\n",
    "                <li>Combination of fingerprints and descriptors</li>\n",
    "            </ul>\n",
    "        </li>\n",
    "        <li><strong>High-performance computing:</strong>\n",
    "            <ul>\n",
    "                <li>Graph neural networks</li>\n",
    "                <li>3D representations</li>\n",
    "                <li>Multiple representation ensemble approaches</li>\n",
    "            </ul>\n",
    "        </li>\n",
    "    </ul>\n",
    "    </div>\n",
    "    \"\"\"\n",
    "    \n",
    "    display(HTML(html))"
   ]
  },
  {
   "cell_type": "code",
   "execution_count": null,
   "id": "874d3a45",
   "metadata": {
    "lines_to_next_cell": 1
   },
   "outputs": [],
   "source": [
    "# Show the guide\n",
    "show_representation_guide()"
   ]
  },
  {
   "cell_type": "markdown",
   "id": "53161e6b",
   "metadata": {},
   "source": [
    "## 12. Practical Considerations"
   ]
  },
  {
   "cell_type": "code",
   "execution_count": null,
   "id": "92478ca8",
   "metadata": {
    "lines_to_next_cell": 1
   },
   "outputs": [],
   "source": [
    "def show_practical_tips():\n",
    "    \"\"\"Display practical considerations when working with molecular representations.\"\"\"\n",
    "    \n",
    "    html = \"\"\"\n",
    "    <div style=\"background-color:#f0f7ff; padding:20px; border-radius:10px; line-height:1.5;\">\n",
    "    <h3 style=\"text-align:center;\">Practical Tips for Working with Molecular Representations</h3>\n",
    "    \n",
    "    <h4>Preprocessing and Standardization:</h4>\n",
    "    <ul>\n",
    "        <li>Standardize molecules before generating representations (neutralize charges, normalize tautomers)</li>\n",
    "        <li>Handle stereochemistry consistently (either preserve or remove)</li>\n",
    "        <li>Consider salt removal and dealing with multi-component structures</li>\n",
    "        <li>Generate 3D conformers with consistent methods</li>\n",
    "    </ul>\n",
    "    \n",
    "    <h4>Dimensionality Issues:</h4>\n",
    "    <ul>\n",
    "        <li>High-dimensional fingerprints may require dimensionality reduction (PCA, t-SNE)</li>\n",
    "        <li>Feature selection is critical for descriptor-based approaches</li>\n",
    "        <li>Consider the curse of dimensionality when dataset size is limited</li>\n",
    "    </ul>\n",
    "    \n",
    "    <h4>Handling Missing Values:</h4>\n",
    "    <ul>\n",
    "        <li>Some descriptors may fail for certain molecules</li>\n",
    "        <li>Develop robust strategies for dealing with missing values (imputation, default values)</li>\n",
    "        <li>Consider using representation methods that don't produce missing values</li>\n",
    "    </ul>\n",
    "    \n",
    "    <h4>Computational Efficiency:</h4>\n",
    "    <ul>\n",
    "        <li>Cache fingerprints and descriptors when possible (especially for 3D calculations)</li>\n",
    "        <li>Use sparse representations for bit vectors</li>\n",
    "        <li>Consider the trade-off between representation quality and calculation speed</li>\n",
    "    </ul>\n",
    "    \n",
    "    <h4>Combining Representations:</h4>\n",
    "    <ul>\n",
    "        <li>Ensemble approaches with multiple representation types often perform better</li>\n",
    "        <li>Properly scale and weight different representations when combining</li>\n",
    "        <li>Consider methods like Multiple Kernel Learning for combining kernels from different representations</li>\n",
    "    </ul>\n",
    "    \n",
    "    <h4>Domain Knowledge Integration:</h4>\n",
    "    <ul>\n",
    "        <li>Use domain knowledge to select appropriate descriptors or fingerprint features</li>\n",
    "        <li>Consider adding custom descriptors for specific chemical classes</li>\n",
    "        <li>For Bayesian optimization, choose representations that align with the structure-activity relationship</li>\n",
    "    </ul>\n",
    "    </div>\n",
    "    \"\"\"\n",
    "    \n",
    "    display(HTML(html))"
   ]
  },
  {
   "cell_type": "code",
   "execution_count": null,
   "id": "8080b9aa",
   "metadata": {
    "lines_to_next_cell": 1
   },
   "outputs": [],
   "source": [
    "# Show practical tips\n",
    "show_practical_tips()"
   ]
  },
  {
   "cell_type": "markdown",
   "id": "caf53ea1",
   "metadata": {},
   "source": [
    "## 13. Implementation Example: Molecular Similarity Search\n",
    "\n",
    "Let's implement a complete example of using molecular representations for a similarity search."
   ]
  },
  {
   "cell_type": "code",
   "execution_count": null,
   "id": "e9cb8fca",
   "metadata": {
    "lines_to_next_cell": 1
   },
   "outputs": [],
   "source": [
    "# @title Similarity Search Implementation { display-mode: \"form\" }\n",
    "def similarity_search(query_mol, database, fp_type='morgan', similarity_threshold=0.7, n_results=5):\n",
    "    \"\"\"\n",
    "    Perform a similarity search to find molecules similar to a query molecule.\n",
    "    \n",
    "    Parameters:\n",
    "    -----------\n",
    "    query_mol : RDKit Mol\n",
    "        Query molecule\n",
    "    database : pd.DataFrame\n",
    "        DataFrame containing molecules to search\n",
    "    fp_type : str\n",
    "        Fingerprint type ('morgan', 'maccs', 'rdkit', 'atom_pair', 'torsion')\n",
    "    similarity_threshold : float\n",
    "        Minimum similarity score to include in results\n",
    "    n_results : int\n",
    "        Maximum number of results to return\n",
    "        \n",
    "    Returns:\n",
    "    --------\n",
    "    pd.DataFrame\n",
    "        DataFrame with search results sorted by similarity\n",
    "    \"\"\"\n",
    "    if query_mol is None:\n",
    "        return pd.DataFrame()\n",
    "    \n",
    "    # Generate fingerprint for query molecule\n",
    "    query_fp = generate_fingerprints(query_mol, fp_type)\n",
    "    \n",
    "    # Calculate similarity to all molecules in the database\n",
    "    similarities = []\n",
    "    \n",
    "    for i, row in database.iterrows():\n",
    "        mol = row['Molecule']\n",
    "        if mol is None:\n",
    "            continue\n",
    "            \n",
    "        # Generate fingerprint\n",
    "        fp = generate_fingerprints(mol, fp_type)\n",
    "        \n",
    "        # Calculate Tanimoto similarity\n",
    "        sim = tanimoto_kernel(query_fp, fp)\n",
    "        \n",
    "        # Store result\n",
    "        similarities.append({\n",
    "            'Index': i,\n",
    "            'Name': row['Name'],\n",
    "            'SMILES': row['SMILES'],\n",
    "            'Similarity': sim,\n",
    "            'Molecule': mol\n",
    "        })\n",
    "    \n",
    "    # Create DataFrame from results\n",
    "    results_df = pd.DataFrame(similarities)\n",
    "    \n",
    "    # Filter by similarity threshold\n",
    "    results_df = results_df[results_df['Similarity'] >= similarity_threshold]\n",
    "    \n",
    "    # Sort by similarity (descending)\n",
    "    results_df = results_df.sort_values('Similarity', ascending=False)\n",
    "    \n",
    "    # Limit to top n results\n",
    "    results_df = results_df.head(n_results)\n",
    "    \n",
    "    return results_df"
   ]
  },
  {
   "cell_type": "code",
   "execution_count": null,
   "id": "2ff7724a",
   "metadata": {
    "lines_to_next_cell": 1
   },
   "outputs": [],
   "source": [
    "# Run similarity search demo\n",
    "def run_similarity_search_demo():\n",
    "    \"\"\"Run a demonstration of similarity search.\"\"\"\n",
    "    \n",
    "    # Select a query molecule\n",
    "    query_name = 'Aspirin'\n",
    "    query_mol = molecules_df[molecules_df['Name'] == query_name]['Molecule'].values[0]\n",
    "    \n",
    "    # Display the query molecule\n",
    "    print(f\"Query Molecule: {query_name}\")\n",
    "    display(Draw.MolToImage(query_mol, size=(300, 200)))\n",
    "    \n",
    "    # Run similarity search with different fingerprints\n",
    "    fingerprint_types = ['morgan', 'maccs', 'rdkit']\n",
    "    \n",
    "    for fp_type in fingerprint_types:\n",
    "        print(f\"\\nResults using {fp_type.upper()} fingerprints:\")\n",
    "        \n",
    "        # Run search\n",
    "        results = similarity_search(\n",
    "            query_mol, \n",
    "            molecules_df, \n",
    "            fp_type=fp_type, \n",
    "            similarity_threshold=0.3, \n",
    "            n_results=5\n",
    "        )\n",
    "        \n",
    "        if len(results) == 0:\n",
    "            print(\"No similar molecules found.\")\n",
    "            continue\n",
    "        \n",
    "        # Display results table\n",
    "        display(results[['Name', 'Similarity']].reset_index(drop=True))\n",
    "        \n",
    "        # Display molecules\n",
    "        mols = results['Molecule'].tolist()\n",
    "        legends = [f\"{name} ({sim:.2f})\" for name, sim in zip(results['Name'], results['Similarity'])]\n",
    "        \n",
    "        img = Draw.MolsToGridImage(mols, molsPerRow=3, \n",
    "                                  subImgSize=(250, 200),\n",
    "                                  legends=legends)\n",
    "        display(img)"
   ]
  },
  {
   "cell_type": "code",
   "execution_count": null,
   "id": "a14e3167",
   "metadata": {
    "lines_to_next_cell": 1
   },
   "outputs": [],
   "source": [
    "# Run the demo\n",
    "run_similarity_search_demo()"
   ]
  },
  {
   "cell_type": "markdown",
   "id": "24fa8687",
   "metadata": {},
   "source": [
    "## 14. Exercises for Readers\n",
    "\n",
    "Here are some exercises to deepen your understanding of molecular representations:"
   ]
  },
  {
   "cell_type": "code",
   "execution_count": null,
   "id": "e390afba",
   "metadata": {
    "lines_to_next_cell": 1
   },
   "outputs": [],
   "source": [
    "# @title Suggested Exercises { display-mode: \"form\" }\n",
    "def show_exercises():\n",
    "    \"\"\"Display exercises for readers to practice with molecular representations.\"\"\"\n",
    "    \n",
    "    html = \"\"\"\n",
    "    <div style=\"background-color:#f5f5f5; padding:20px; border-radius:10px; line-height:1.5;\">\n",
    "    <h3 style=\"text-align:center;\">Exercises</h3>\n",
    "    \n",
    "    <h4>Basic Exercises:</h4>\n",
    "    <ol>\n",
    "        <li><strong>SMILES Manipulation:</strong> Write a function to generate and compare canonical and non-canonical SMILES for a set of molecules. Observe how atom ordering affects the string representation.</li>\n",
    "        <li><strong>Fingerprint Comparison:</strong> Generate Morgan fingerprints with different radii (1, 2, 3) and compare how the radius parameter affects the similarity between molecules.</li>\n",
    "        <li><strong>Descriptor Analysis:</strong> Identify which molecular descriptors are most correlated with logP. Create a simple linear regression model to predict logP using only 3-5 descriptors.</li>\n",
    "    </ol>\n",
    "    \n",
    "    <h4>Intermediate Exercises:</h4>\n",
    "    <ol>\n",
    "        <li><strong>Custom Fingerprint Design:</strong> Create a custom fingerprint function that focuses on specific structural features relevant to a particular property (e.g., features important for solubility).</li>\n",
    "        <li><strong>Representation Comparison:</strong> Compare the performance of different representations (fingerprints, descriptors, graphs) for predicting a molecular property using a simple machine learning model.</li>\n",
    "        <li><strong>Similarity Metrics:</strong> Implement and compare different similarity metrics (Tanimoto, Dice, Cosine) for molecular similarity searching. Analyze when each metric performs better.</li>\n",
    "    </ol>\n",
    "    \n",
    "    <h4>Advanced Exercises:</h4>\n",
    "    <ol>\n",
    "        <li><strong>Multiple Kernel Learning:</strong> Implement a multiple kernel learning approach that combines different molecular representations for improved prediction performance.</li>\n",
    "        <li><strong>Pharmacophore Representation:</strong> Create a pharmacophore-based representation that captures 3D features important for binding.</li>\n",
    "        <li><strong>Representation Learning:</strong> Use a neural network to learn a new molecular representation from Morgan fingerprints that is optimized for a specific prediction task.</li>\n",
    "    </ol>\n",
    "    </div>\n",
    "    \"\"\"\n",
    "    \n",
    "    display(HTML(html))"
   ]
  },
  {
   "cell_type": "code",
   "execution_count": null,
   "id": "af9b875b",
   "metadata": {
    "lines_to_next_cell": 1
   },
   "outputs": [],
   "source": [
    "# Show exercises\n",
    "show_exercises()"
   ]
  },
  {
   "cell_type": "markdown",
   "id": "fb1b8ff2",
   "metadata": {},
   "source": [
    "## 15. Summary and Key Takeaways\n",
    "\n",
    "In this notebook, we've explored various approaches to representing molecules for machine learning, with a focus on applications in Bayesian optimization and active learning for drug discovery."
   ]
  },
  {
   "cell_type": "code",
   "execution_count": null,
   "id": "9f4d239f",
   "metadata": {
    "lines_to_next_cell": 1
   },
   "outputs": [],
   "source": [
    "# @title Key Takeaways { display-mode: \"form\" }\n",
    "def show_summary():\n",
    "    \"\"\"Display summary and key takeaways.\"\"\"\n",
    "    \n",
    "    html = \"\"\"\n",
    "    <div style=\"background-color:#e6f7e6; padding:20px; border-radius:10px; line-height:1.5;\">\n",
    "    <h3 style=\"text-align:center;\">Key Takeaways</h3>\n",
    "    \n",
    "    <ul>\n",
    "        <li><strong>No Universal Representation:</strong> The choice of molecular representation should be tailored to the specific task, dataset, and computational resources available.</li>\n",
    "        \n",
    "        <li><strong>Fingerprints:</strong> Provide a good balance of performance and computational efficiency. Morgan/ECFP fingerprints are particularly versatile for many applications.</li>\n",
    "        \n",
    "        <li><strong>Descriptors:</strong> Offer interpretability and direct physical meaning but may require careful feature selection and handling of correlations.</li>\n",
    "        \n",
    "        <li><strong>Graph Representations:</strong> Preserve complete topological information and work well with deep learning approaches, though they require more computational resources.</li>\n",
    "        \n",
    "        <li><strong>3D Representations:</strong> Essential for capturing spatial information relevant to protein-ligand interactions but come with increased computational cost and conformational variability.</li>\n",
    "        \n",
    "        <li><strong>Similarity Metrics:</strong> Different fingerprints and similarity metrics capture different aspects of molecular similarity. Tanimoto similarity with Morgan fingerprints provides a good general-purpose approach.</li>\n",
    "        \n",
    "        <li><strong>Kernel Functions:</strong> Properly defined kernel functions enable the use of powerful kernel methods like Gaussian Processes for Bayesian optimization of molecular properties.</li>\n",
    "        \n",
    "        <li><strong>Representation Combinations:</strong> Hybrid approaches that combine multiple representations often lead to better performance across a range of tasks.</li>\n",
    "    </ul>\n",
    "    \n",
    "    <h4>Applications to Bayesian Optimization and Active Learning:</h4>\n",
    "    <ul>\n",
    "        <li>Appropriate molecular representations are crucial for defining the chemical space to be explored.</li>\n",
    "        <li>The choice of representation directly affects the smoothness of the objective function landscape.</li>\n",
    "        <li>Kernels derived from molecular representations determine how information is shared between similar molecules.</li>\n",
    "        <li>Effective representation can significantly improve sample efficiency in active learning loops.</li>\n",
    "    </ul>\n",
    "    </div>\n",
    "    \"\"\"\n",
    "    \n",
    "    display(HTML(html))"
   ]
  },
  {
   "cell_type": "code",
   "execution_count": null,
   "id": "1050840d",
   "metadata": {
    "lines_to_next_cell": 1
   },
   "outputs": [],
   "source": [
    "# Show summary\n",
    "show_summary()"
   ]
  },
  {
   "cell_type": "markdown",
   "id": "952c0724",
   "metadata": {},
   "source": [
    "## 16. References\n",
    "\n",
    "Here are some key references for further reading on molecular representations:"
   ]
  },
  {
   "cell_type": "code",
   "execution_count": null,
   "id": "c4fa5368",
   "metadata": {
    "lines_to_next_cell": 1
   },
   "outputs": [],
   "source": [
    "# @title References { display-mode: \"form\" }\n",
    "def show_references():\n",
    "    \"\"\"Display references for further reading.\"\"\"\n",
    "    \n",
    "    html = \"\"\"\n",
    "    <div style=\"background-color:#f0f0f5; padding:20px; border-radius:10px; line-height:1.5;\">\n",
    "    <h3 style=\"text-align:center;\">References</h3>\n",
    "    \n",
    "    <ol>\n",
    "        <li>Cereto-Massagué, A., Ojeda, M. J., Valls, C., Mulero, M., Garcia-Vallvé, S., & Pujadas, G. (2015). Molecular fingerprint similarity search in virtual screening. <em>Methods</em>, 71, 58-63.</li>\n",
    "        \n",
    "        <li>Rogers, D., & Hahn, M. (2010). Extended-connectivity fingerprints. <em>Journal of Chemical Information and Modeling</em>, 50(5), 742-754.</li>\n",
    "        \n",
    "        <li>Todeschini, R., & Consonni, V. (2009). <em>Molecular descriptors for chemoinformatics</em>. John Wiley & Sons.</li>\n",
    "        \n",
    "        <li>Duvenaud, D. K., Maclaurin, D., Iparraguirre, J., Bombarell, R., Hirzel, T., Aspuru-Guzik, A., & Adams, R. P. (2015). Convolutional networks on graphs for learning molecular fingerprints. <em>Advances in Neural Information Processing Systems</em>, 28.</li>\n",
    "        \n",
    "        <li>Weininger, D. (1988). SMILES, a chemical language and information system. 1. Introduction to methodology and encoding rules. <em>Journal of Chemical Information and Computer Sciences</em>, 28(1), 31-36.</li>\n",
    "        \n",
    "        <li>Bemis, G. W., & Murcko, M. A. (1996). The properties of known drugs. 1. Molecular frameworks. <em>Journal of Medicinal Chemistry</em>, 39(15), 2887-2893.</li>\n",
    "        \n",
    "        <li>Mayr, A., Klambauer, G., Unterthiner, T., Steijaert, M., Wegner, J. K., Ceulemans, H., ... & Hochreiter, S. (2018). Large-scale comparison of machine learning methods for drug target prediction on ChEMBL. <em>Chemical Science</em>, 9(24), 5441-5451.</li>\n",
    "        \n",
    "        <li>Ralaivola, L., Swamidass, S. J., Saigo, H., & Baldi, P. (2005). Graph kernels for chemical informatics. <em>Neural Networks</em>, 18(8), 1093-1110.</li>\n",
    "        \n",
    "        <li>Krenn, M., Häse, F., Nigam, A., Friederich, P., & Aspuru-Guzik, A. (2020). Self-referencing embedded strings (SELFIES): A 100% robust molecular string representation. <em>Machine Learning: Science and Technology</em>, 1(4), 045024.</li>\n",
    "        \n",
    "        <li>Wu, Z., Ramsundar, B., Feinberg, E. N., Gomes, J., Geniesse, C., Pappu, A. S., ... & Pande, V. (2018). MoleculeNet: a benchmark for molecular machine learning. <em>Chemical Science</em>, 9(2), 513-530.</li>\n",
    "    </ol>\n",
    "    \n",
    "    <h4>Useful Software and Resources:</h4>\n",
    "    <ul>\n",
    "        <li>RDKit: Open-source cheminformatics software - <a href=\"https://www.rdkit.org/\" target=\"_blank\">https://www.rdkit.org/</a></li>\n",
    "        <li>DeepChem: Deep-learning library for chemistry - <a href=\"https://deepchem.io/\" target=\"_blank\">https://deepchem.io/</a></li>\n",
    "        <li>ChEMBL: Database of bioactive molecules - <a href=\"https://www.ebi.ac.uk/chembl/\" target=\"_blank\">https://www.ebi.ac.uk/chembl/</a></li>\n",
    "        <li>PubChem: Open chemistry database - <a href=\"https://pubchem.ncbi.nlm.nih.gov/\" target=\"_blank\">https://pubchem.ncbi.nlm.nih.gov/</a></li>\n",
    "    </ul>\n",
    "    </div>\n",
    "    \"\"\"\n",
    "    \n",
    "    display(HTML(html))"
   ]
  },
  {
   "cell_type": "code",
   "execution_count": null,
   "id": "cd8a13db",
   "metadata": {
    "lines_to_next_cell": 1
   },
   "outputs": [],
   "source": [
    "# Show references\n",
    "show_references()"
   ]
  },
  {
   "cell_type": "markdown",
   "id": "47deb826",
   "metadata": {},
   "source": [
    "## 17. Next Steps\n",
    "\n",
    "In the next chapters of this series, we'll explore how these molecular representations can be used in Gaussian Processes and Bayesian optimization for efficient molecular property optimization."
   ]
  },
  {
   "cell_type": "markdown",
   "id": "6501d77a",
   "metadata": {},
   "source": [
    "@title Next Chapters Preview { display-mode: \"form\" }"
   ]
  },
  {
   "cell_type": "code",
   "execution_count": null,
   "id": "5b9d6f10",
   "metadata": {
    "lines_to_next_cell": 1
   },
   "outputs": [],
   "source": [
    "def show_next_steps():\n",
    "    \"\"\"Preview upcoming chapters.\"\"\"\n",
    "    \n",
    "    html = \"\"\"\n",
    "    <div style=\"background-color:#f7f2e6; padding:20px; border-radius:10px; line-height:1.5;\">\n",
    "    <h3 style=\"text-align:center;\">Coming Up Next</h3>\n",
    "    \n",
    "    <h4>Gaussian Processes for Molecular Property Prediction:</h4>\n",
    "    <ul>\n",
    "        <li>Using molecular representations with Gaussian Processes</li>\n",
    "        <li>Kernel design for molecular similarity</li>\n",
    "        <li>Uncertainty quantification in molecular property prediction</li>\n",
    "    </ul>\n",
    "    \n",
    "    <h4>Acquisition Functions for Molecular Optimization:</h4>\n",
    "    <ul>\n",
    "        <li>Expected Improvement for finding molecules with optimal properties</li>\n",
    "        <li>Upper Confidence Bound for exploration-exploitation balance</li>\n",
    "        <li>Thompson Sampling for efficient chemical space exploration</li>\n",
    "    </ul>\n",
    "    \n",
    "    <h4>Active Learning Strategies for Drug Discovery:</h4>\n",
    "    <ul>\n",
    "        <li>Uncertainty-based sampling in chemical space</li>\n",
    "        <li>Diversity sampling for broader exploration</li>\n",
    "        <li>Expected model change for efficient learning</li>\n",
    "    </ul>\n",
    "    </div>\n",
    "    \"\"\"\n",
    "    \n",
    "    display(HTML(html))"
   ]
  },
  {
   "cell_type": "code",
   "execution_count": null,
   "id": "ba298389",
   "metadata": {},
   "outputs": [],
   "source": [
    "# Show preview of next chapters\n",
    "show_next_steps()"
   ]
  }
 ],
 "metadata": {
  "jupytext": {
   "cell_metadata_filter": "-all",
   "encoding": "# -*- coding: utf-8 -*-",
   "main_language": "python",
   "notebook_metadata_filter": "-all"
  },
  "kernelspec": {
   "display_name": "pytorch",
   "language": "python",
   "name": "python3"
  },
  "language_info": {
   "codemirror_mode": {
    "name": "ipython",
    "version": 3
   },
   "file_extension": ".py",
   "mimetype": "text/x-python",
   "name": "python",
   "nbconvert_exporter": "python",
   "pygments_lexer": "ipython3",
   "version": "3.10.12"
  }
 },
 "nbformat": 4,
 "nbformat_minor": 5
}
